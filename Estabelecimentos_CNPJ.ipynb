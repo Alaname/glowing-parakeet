{
 "cells": [
  {
   "cell_type": "code",
   "execution_count": 9,
   "metadata": {},
   "outputs": [],
   "source": [
    "# Data manipulation\n",
    "import pandas as pd\n",
    "# Apply fast cleaning \n",
    "import numpy as np\n",
    "# Geocode\n",
    "from geopy.geocoders import Nominatim\n",
    "# For timesleep\n",
    "import time"
   ]
  },
  {
   "cell_type": "code",
   "execution_count": 10,
   "metadata": {},
   "outputs": [],
   "source": [
    "df_sp = pd.read_csv(r\"C:\\Users\\Alan\\Desktop\\Estabelecimentos_10_2024\\extracted\\Treated\\empreendimentos_SP_SaoPaulo_202410301512.csv\",\n",
    "                    encoding='latin',\n",
    "                    sep=';',\n",
    "                    index_col=False,\n",
    "                    dtype=str)"
   ]
  },
  {
   "cell_type": "code",
   "execution_count": 11,
   "metadata": {},
   "outputs": [
    {
     "data": {
      "text/plain": [
       "Index(['cnpj_basico', 'cnpj_ordem', 'cnpj_dv', 'matriz_filial',\n",
       "       'nome_fantasia', 'situacao_cadastral', 'data_situacao_cadastral',\n",
       "       'motivo_situacao_cadastral', 'data_inicio_atividade', 'cnae_principal',\n",
       "       'cnae_secundaria', 'tipo_logradouro', 'logradouro', 'numero',\n",
       "       'complemento', 'bairro', 'cep', 'uf', 'municipio', 'ddd1', 'tel1',\n",
       "       'email', 'cnpj'],\n",
       "      dtype='object')"
      ]
     },
     "execution_count": 11,
     "metadata": {},
     "output_type": "execute_result"
    }
   ],
   "source": [
    "# Inspeção geral\n",
    "df_sp.head(1)\n",
    "df_sp.columns"
   ]
  },
  {
   "cell_type": "code",
   "execution_count": null,
   "metadata": {},
   "outputs": [],
   "source": [
    "# Eliminar coluna adicional CNPJ\n",
    "df_sp.drop(columns=['cnpj'], inplace=True)\n",
    "\n",
    "# Coluna CNPJ Completo\n",
    "df_sp['cnpj_completo'] = (\n",
    "    df_sp['cnpj_basico'].str.zfill(8) + '/' + \n",
    "    df_sp['cnpj_ordem'].str.zfill(4) + '-' + \n",
    "    df_sp['cnpj_dv'].str.zfill(2)\n",
    ")\n",
    "# Coluna endereço completo CORRIGIR\n",
    "df_sp['endereco_completo'] = (\n",
    "    df_sp['logradouro'] + ', ' + \n",
    "    df_sp['numero'] + ', ' + \n",
    "    df_sp['bairro'] + ', ' + \n",
    "    df_sp['cep'] + ', ' + \n",
    "    df_sp['municipio'] + '-' + \n",
    "    df_sp['uf']\n",
    ")\n",
    "\n",
    "# Separando as CNAEs secundárias com max split 3\n",
    "df_split = df_sp['cnae_secundaria'].str.split(',', n=2, expand=True)\n",
    "df_split.columns = [f'cnae_secundaria{i+1}' for i in range(df_split.shape[1])]\n",
    "\n",
    "# Unindo ao dataframe principal e trocando cnae_secundaria pelas do split\n",
    "df_sp = df_sp.drop(columns=['cnae_secundaria']).join(df_split)\n",
    "\n",
    "# Transformando colunas ano em datetime e eliminando as horas\n",
    "df_sp['data_inicio_atividade'] = pd.to_datetime(df_sp['data_inicio_atividade'].astype(str), format='%Y%m%d', errors='coerce')\n",
    "df_sp['data_inicio_atividade'] = df_sp['data_inicio_atividade'].dt.date\n",
    "\n",
    "df_sp['data_situacao_cadastral'] = pd.to_datetime(df_sp['data_situacao_cadastral'].astype(str), format='%Y%m%d', errors='coerce')\n",
    "df_sp['data_situacao_cadastral'] = df_sp['data_situacao_cadastral'].dt.date\n"
   ]
  },
  {
   "cell_type": "code",
   "execution_count": 13,
   "metadata": {},
   "outputs": [],
   "source": [
    "# Padronização de None\n",
    "df_sp = df_sp.where(pd.notna(df_sp), None)"
   ]
  },
  {
   "cell_type": "code",
   "execution_count": 14,
   "metadata": {},
   "outputs": [],
   "source": [
    "df_sp.to_csv(\"Estabelecimentos_SaoPaulo_SP_20241031_nogeocode.csv\", sep=';', encoding='latin1')"
   ]
  },
  {
   "cell_type": "code",
   "execution_count": 15,
   "metadata": {},
   "outputs": [
    {
     "name": "stdout",
     "output_type": "stream",
     "text": [
      "C:\\Users\\Alan\\AppData\\Local\\Programs\\Microsoft VS Code\n"
     ]
    }
   ],
   "source": [
    "import os\n",
    "print(os.getcwd())"
   ]
  }
 ],
 "metadata": {
  "kernelspec": {
   "display_name": "base",
   "language": "python",
   "name": "python3"
  },
  "language_info": {
   "codemirror_mode": {
    "name": "ipython",
    "version": 3
   },
   "file_extension": ".py",
   "mimetype": "text/x-python",
   "name": "python",
   "nbconvert_exporter": "python",
   "pygments_lexer": "ipython3",
   "version": "3.12.4"
  }
 },
 "nbformat": 4,
 "nbformat_minor": 2
}
