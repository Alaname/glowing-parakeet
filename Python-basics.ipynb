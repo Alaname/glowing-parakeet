{
 "cells": [
  {
   "cell_type": "code",
   "execution_count": null,
   "metadata": {},
   "outputs": [],
   "source": [
    "# Strings are immutable\n",
    "\n",
    "word = \"goal\"\n",
    "word[0] = \"f\"\n",
    "\n",
    "# Most string methods that alter a string, actually return copies of the original string\n",
    "# With the appropriate modification"
   ]
  },
  {
   "cell_type": "code",
   "execution_count": null,
   "metadata": {},
   "outputs": [],
   "source": [
    "# To change the string we can use string slicing or methods\n",
    "\n",
    "word = \"f\" + word[1:]\n",
    "\n",
    "print(word, \" \", word.upper())"
   ]
  },
  {
   "cell_type": "markdown",
   "metadata": {},
   "source": [
    "# Challenge : Pick Apart Your User's Input\n",
    " Write a script named first_letter.py that first prompts the user for\n",
    "input by using the string \"Tell me your password:\" The script should\n",
    "then determine the first letter of the user’s input, convert that letter\n",
    "to upper-case, and display it back."
   ]
  },
  {
   "cell_type": "code",
   "execution_count": null,
   "metadata": {},
   "outputs": [],
   "source": [
    "response = input(\"Tell me your password:\")\n",
    "print(\"Your first letter was: \", response[0].upper())"
   ]
  },
  {
   "cell_type": "markdown",
   "metadata": {},
   "source": [
    "A **sequence** is any Python object that supports accessing elements by index. Strings are sequences"
   ]
  },
  {
   "cell_type": "code",
   "execution_count": null,
   "metadata": {},
   "outputs": [],
   "source": [
    "# To convert a string into a number\n",
    "string = \"22\"\n",
    "print(string * 2)\n",
    "string = float(string)\n",
    "print(string * 2)\n",
    "\n",
    "# To convert a number to string use str()"
   ]
  },
  {
   "cell_type": "code",
   "execution_count": null,
   "metadata": {},
   "outputs": [],
   "source": [
    "# String interpolation = insert some variables into specific locations in a string.\n",
    "# One way is using comas to insert spaces between each part of the string inside a print()function.\n",
    "name, H, arms = \"Zaphod\", 2, 3\n",
    "print(name, \"has\", str(H), \"H and\", str(arms), \"arms\")\n",
    "\n",
    "# Another way is concatenating the string with the + operator\n",
    "print(name + \" has \" + str(H) + \" H and \" + str(arms) + \" arms\")\n",
    "\n",
    "# Third way is formatted string literals\n",
    "f\"{name} has {H} H and {arms} arms \"\n",
    "\n",
    "# Can anso insert Python expressions\n",
    "n, m = 2, 3\n",
    "f\"{n} times {m} is {n*m}\""
   ]
  },
  {
   "cell_type": "code",
   "execution_count": null,
   "metadata": {},
   "outputs": [],
   "source": [
    "# To find a string in a string\n",
    "phrase = \"the surprise is in here somehow\"\n",
    "phrase.find(\n",
    "    \"surprise\"\n",
    ")  # Returns the index of the first occurence of the string you pass to it.\n",
    "# If it does not find, it will return -1. If found many times it will return the first appearance."
   ]
  },
  {
   "cell_type": "markdown",
   "metadata": {},
   "source": [
    "# Challenge: Turn Your User Into a L33t H4xor\n",
    "Write a script called translate.py that asks the user for some input\n",
    "with the following prompt: Enter some text:. Then use the .replace()\n",
    "method to convert the text entered by the user into “leetspeak” by making\n",
    "the following changes to lower-case letters:\n",
    "* The letter a becomes 4\n",
    "* The letter b becomes 8\n",
    "* The letter e becomes 3\n",
    "* The letter l becomes 1\n",
    "* The letter o becomes 0\n",
    "* The letter s becomes 5\n",
    "* The letter t becomes 7"
   ]
  },
  {
   "cell_type": "code",
   "execution_count": null,
   "metadata": {},
   "outputs": [],
   "source": [
    "# The normal way of doing it is according to the book:\n",
    "my_text = input(\"Enter some text: \").lower()\n",
    "\n",
    "my_text = my_text.replace(\"a\", \"4\")\n",
    "my_text = my_text.replace(\"b\", \"8\")\n",
    "my_text = my_text.replace(\"e\", \"3\")\n",
    "my_text = my_text.replace(\"l\", \"1\")\n",
    "my_text = my_text.replace(\"o\", \"0\")\n",
    "my_text = my_text.replace(\"s\", \"5\")\n",
    "my_text = my_text.replace(\"t\", \"7\")\n",
    "print(my_text)\n",
    "\n",
    "# The alternative way without iterating over it is:\n",
    "turner = input(\"Enter some text: \").lower()\n",
    "letters = \"abelost\"\n",
    "numbers = \"4831057\"\n",
    "\n",
    "conversion_ref = str.maketrans(letters, numbers)\n",
    "turner = turner.translate(conversion_ref)\n",
    "print(turner)\n",
    "\n",
    "# str.maketrans is a method that returns a mapping table that can beused with translate() method to replace specific characters .\n",
    "conversion_ref  # to check what is is like"
   ]
  },
  {
   "cell_type": "code",
   "execution_count": null,
   "metadata": {},
   "outputs": [],
   "source": [
    "# There are two ways of writing integers\n",
    "10000000\n",
    "1_000_000\n",
    "\n",
    "# In python, we can't use commas to group digits but we use underscore (_)\n",
    "# In case of float\n",
    "1000.0\n",
    "1_000.0\n",
    "1e3  # Exponential notation. For negative use 1e-4 for example to obtain 0.0001\n",
    "\n",
    "# intergers dont have maximum size but floats do.\n",
    "\n",
    "# For operations, PEP8 recommends separating both operands form an operator with a space."
   ]
  },
  {
   "cell_type": "markdown",
   "metadata": {},
   "source": [
    "# Challenge 5.3: Perform Calculations on User Input\n",
    "Write a script called exponent.py that receives two numbers from the\n",
    "user and displays the first number raised to the power of the second\n",
    "number.\n",
    "A sample run of the program should look like this (with example input\n",
    "that has been provided by the user included below):\n",
    "\n",
    "1. Before you can do anything with the user’s input, you will have to\n",
    "assign both calls to input() to new variables.\n",
    "2. The input() function returns a string, so you’ll need to convert the\n",
    "user’s input into numbers in order to do arithmetic.\n",
    "3. You can use an f-string to print the result.\n",
    "4. You can assume that the user will enter actual numbers as input."
   ]
  },
  {
   "cell_type": "code",
   "execution_count": null,
   "metadata": {},
   "outputs": [],
   "source": [
    "n1, n2 = map(int, input(\"Please tell two numbers separated by space: \").split())\n",
    "# map (function, iterable)\n",
    "f\"{n1} to the power of {n2} is {n1**n2}\""
   ]
  },
  {
   "cell_type": "markdown",
   "metadata": {},
   "source": [
    "Write a script that asks the user to input a number and then displays\n",
    "that number rounded to two decimal places. When run, your\n",
    "program should look like this:\n",
    "\n",
    "Enter a number: 5.432\n",
    "\n",
    "5.432 rounded to 2 decimal places is 5.43"
   ]
  },
  {
   "cell_type": "code",
   "execution_count": null,
   "metadata": {},
   "outputs": [],
   "source": [
    "n = float(input(\"Enter a number: \"))\n",
    "f\"{n} rounded to 2 decilams places is {round(n, 2)}\""
   ]
  },
  {
   "cell_type": "markdown",
   "metadata": {},
   "source": [
    "Write a script that asks the user to input two numbers, then display wheter or not the difference between those two numbers is an interger. \n",
    "\n",
    "It should look like this: \n",
    "\n",
    "Enter a number: 1.5\n",
    "Enter another number: .5\n",
    "The difference is an intenger ? True "
   ]
  },
  {
   "cell_type": "code",
   "execution_count": null,
   "metadata": {},
   "outputs": [],
   "source": [
    "n1, n2 = map(\n",
    "    float, input(\"Enter two numbers to see if the difference is an interger: \").split()\n",
    ")\n",
    "result = (n1 - n2).is_integer()\n",
    "f\"The result of {n1} - {n2} being an integer is : {result}\""
   ]
  },
  {
   "cell_type": "code",
   "execution_count": null,
   "metadata": {},
   "outputs": [],
   "source": [
    "# Printing numbers in style\n",
    "# For example, to format the value of n in the above example to two\n",
    "# decimal places, replace the contents of the curly braces in the f-string\n",
    "# with {n:.2f}\n",
    "# Everything after the colon is formatting specification.\n",
    "\n",
    "\n",
    "n = 7.125\n",
    "f\"The value of n is {n: .2f}\""
   ]
  },
  {
   "cell_type": "code",
   "execution_count": null,
   "metadata": {},
   "outputs": [],
   "source": [
    "# Can also be used for groupping\n",
    "n = 123456789\n",
    "f\"The value on {n} is {n: ,}\""
   ]
  },
  {
   "cell_type": "code",
   "execution_count": null,
   "metadata": {},
   "outputs": [],
   "source": [
    "# Another useful option is % wich is isued to display percentages . It multiplies a number by 100\n",
    "# and displays it in fixed-point format, followed by a percentage sign.\n",
    "\n",
    "ratio = 0.9\n",
    "f\"Over {ratio:.1%} of Pythonistas say 'Real Python rocks' \""
   ]
  },
  {
   "cell_type": "code",
   "execution_count": null,
   "metadata": {},
   "outputs": [],
   "source": [
    "# Print the result of the calculation 3 ** .125 as a fixed-point number with 3 decimal places\n",
    "f\"{3 ** .125: .3f}\"\n",
    "\n",
    "# Print  150000 as curency, with the thousand group commas\n",
    "f\"{150000: ,.2f}\"\n",
    "\n",
    "# Print 2 / 10 as a percentage with no decimal places. It should look like 20%\n",
    "f\"{2 / 10: .0%}\""
   ]
  },
  {
   "cell_type": "markdown",
   "metadata": {},
   "source": [
    "## Functions and loops\n",
    "\n",
    "- Functions are values and can be assigend to a variable \n",
    "```python\n",
    "type(len)\n",
    "<class 'builtin_function_or_method'>\n",
    "```\n",
    "\n",
    "Interestingly, you can use the same word for giving it a value\n",
    "\n",
    "```python\n",
    "len = \"I am not the len you are looking for\"\n",
    "type(len)\n",
    "<class  'str'>\n",
    "```\n",
    "\n",
    "We can use del, which stands for delete, but it does not delete the value. Instead, it detaches the name from the value and deletes the name.\n",
    "\n",
    "An **argument** is a value that gets **passed** to the function as input. Some functions can be called with no arguments, and some can take as many arguments as you like. len( ) requires exactly one argument.\n",
    "\n",
    "Every function has two parts:\n",
    "1. The function signature defines the name of the function and inputs it expects.\n",
    "2. The function body contains the code that runs every time the function is used.\n",
    "\n",
    "```python\n",
    "def multiply(x, y): # Function signature\n",
    "    #Function body\n",
    "    product = x * y \n",
    "    return product\n",
    "```\n",
    "The parameter list is a list of parameter names surrounded by opening and closing parentheses. It defines the function’s expected inputs.\n",
    "(x, y) is the parameter list for the multiply function. It creates two\n",
    "parameters, x and y.\n",
    "\n",
    "A **parameter** is sort of like a variable, except that it has no value.\n",
    "It is a placeholder for actual values that are provided whenever the function is called with one or more arguments. A function can have any number of parameters, including no parameters at all. "
   ]
  },
  {
   "cell_type": "code",
   "execution_count": null,
   "metadata": {},
   "outputs": [],
   "source": [
    "def multiply(x, y):\n",
    "    product = x * y\n",
    "    return product\n",
    "\n",
    "\n",
    "multiply(2, 4)"
   ]
  },
  {
   "cell_type": "markdown",
   "metadata": {},
   "source": [
    "All functions in Python return a value, even if that value id None. However, not all functions need a return statement. "
   ]
  },
  {
   "cell_type": "code",
   "execution_count": null,
   "metadata": {},
   "outputs": [],
   "source": [
    "def greet(name):\n",
    "    print(f\"Hello, {name}!\")\n",
    "\n",
    "\n",
    "# greet has no return statement but works just fine\n",
    "\n",
    "greet(\"Alan\")"
   ]
  },
  {
   "cell_type": "markdown",
   "metadata": {},
   "source": [
    "When you create a function, you should always document what they do. That way other developers can read the documentationp and know how to use the  dunction and waht to expect when it is called. \n",
    "\n",
    "To get help with a function in IDLE's interactive window, you can use the help function\n",
    "\n",
    "```python\n",
    "help(len)\n",
    "Help on built-in function len in module builtins:\n",
    "len(obj, /)\n",
    "Return the number of items in a container.\n",
    "\n",
    "```\n",
    "\n",
    "> A **container** is a special name for an object that constains other objects. A string is a container because it contains characters. "
   ]
  },
  {
   "cell_type": "code",
   "execution_count": null,
   "metadata": {},
   "outputs": [],
   "source": [
    "help(multiply)"
   ]
  },
  {
   "cell_type": "markdown",
   "metadata": {},
   "source": [
    "help( ) displays the function signature, but there isn't any information about what the function does. To better document, we need to provide docstring. \n",
    "\n",
    "A **docstring** is a tripe-quoted string literal placed at the top of the body function. Docstrings are used to document what a function does and what kinds of parameters it expects. "
   ]
  },
  {
   "cell_type": "code",
   "execution_count": null,
   "metadata": {},
   "outputs": [],
   "source": [
    "def multiply(x, y):\n",
    "    \"\"\"Return the procut of two numbers x and y.\"\"\"\n",
    "    product = x * y\n",
    "    return product\n",
    "\n",
    "\n",
    "help(multiply)"
   ]
  },
  {
   "cell_type": "markdown",
   "metadata": {},
   "source": [
    "## Challenge 6.3: Convert temperatures\n",
    "\n",
    "Write a script that defines two functions\n",
    "1. convert_cel_to_far() which takes one float parameter representing degrees Celsius and return a float representing the same temperature in degrees Fahrenheit using the formula \n",
    "\n",
    "$$ F = C * 9/5 + 32 $$\n",
    "\n",
    "2. convert_far_to_cel() which takes one float parameter representing degrees Fahrenheit and return a float representing the same temperature in degrees Celsius using the formula\n",
    "\n",
    "$$ C = (F - 32) * 5/9$$\n",
    "\n",
    "All converted temperatures should be rounded to 2 decimal places.\n"
   ]
  },
  {
   "cell_type": "code",
   "execution_count": null,
   "metadata": {},
   "outputs": [],
   "source": [
    "def convert_cel_to_far():\n",
    "    \"\"\"\n",
    "    Convert a given Celsius degree temperature to Fahrenheit\n",
    "    \"\"\"\n",
    "    celsius = float(\n",
    "        input(\"Give the degrees Celsius temperature to convert to Fahrenheit: \")\n",
    "    )\n",
    "    fahrenheit = celsius * 9 / 5 + 32\n",
    "    print(f\"{celsius} degrees Celsius are {fahrenheit: .2f}  Fahrenheit degrees\")\n",
    "\n",
    "\n",
    "def convert_far_to_cel():\n",
    "    \"\"\"\n",
    "    Convert a given Fahrenheit degree temperarture to Celcius\n",
    "    \"\"\"\n",
    "    fahrenheit = float(\n",
    "        input(\"Give the degrees Fahrenheit temperature to convert to Celcius: \")\n",
    "    )\n",
    "    C = (fahrenheit - 32) * 5 / 9\n",
    "    print(f\"{fahrenheit} degree in Celcius = {C: .2f} degrees\")"
   ]
  },
  {
   "cell_type": "code",
   "execution_count": null,
   "metadata": {},
   "outputs": [],
   "source": [
    "convert_cel_to_far()"
   ]
  },
  {
   "cell_type": "code",
   "execution_count": null,
   "metadata": {},
   "outputs": [],
   "source": [
    "convert_far_to_cel()"
   ]
  },
  {
   "cell_type": "markdown",
   "metadata": {},
   "source": [
    "## Run in circles \n",
    "\n",
    "A **loop** is a block of code that gets repeated over and over again either a specified number of times or until some condition is met. There are two kinds of loops in python: while and for."
   ]
  },
  {
   "cell_type": "code",
   "execution_count": null,
   "metadata": {},
   "outputs": [],
   "source": [
    "n = 1\n",
    "while n < 5:\n",
    "    print(n)\n",
    "    n = n + 1"
   ]
  },
  {
   "cell_type": "code",
   "execution_count": null,
   "metadata": {},
   "outputs": [],
   "source": [
    "num = float(input(\"Enter a positive number:  \"))\n",
    "\n",
    "while num <= 0:\n",
    "    print(\"That's not a positive number\")\n",
    "    num = float(input(\"Enter a positive number: \"))\n",
    "\n",
    "    # While loops are perfect for repeating a sectin of code while some condition is met.\n",
    "    # They are not well suited forrepeating a section of code a specific number of times."
   ]
  },
  {
   "cell_type": "markdown",
   "metadata": {},
   "source": [
    "A for loop executes a section of code once for each item in a collection of items. The number of times that the code is executed is determied by the number of item in the collection.\n",
    "\n",
    "```python\n",
    "for letter in \"Python\":\n",
    "    print(letter)\n",
    "```\n",
    "\n",
    "At each step of the loop, the variable letter is assigned the next letter in the string \"Python\", and the value of letter is printed. The loop runs once for each characrter in the string \"Python\", so the loop body execute six times. \n",
    "\n",
    "Sometimes it's useful to loop over a range of numbers. Python has handy built-in function range( ) that produces just that- a range of numbers. \n",
    "\n",
    "For example, range(3) returns the range of intergers starting with 0 and up to, *but not including* 3. \n",
    "\n",
    "Range can be used in any positive number, to execute a loop exactly n times. It can also receive a starting point. For example, range(1, 5) is the range of numbers 1, 2, 3 and 4. "
   ]
  },
  {
   "cell_type": "code",
   "execution_count": null,
   "metadata": {},
   "outputs": [],
   "source": [
    "amount = float(input(\"Enter an amount: \"))\n",
    "\n",
    "for num_people in range(2, 6):\n",
    "    print(f\"{num_people} people: ${amount / num_people: ,.2f} each\")"
   ]
  },
  {
   "cell_type": "code",
   "execution_count": null,
   "metadata": {},
   "outputs": [],
   "source": [
    "# There is an option to put loops inside of other loops.\n",
    "\n",
    "for n in range(1, 4):\n",
    "    for j in range(4, 7):\n",
    "        print(f\"n = {n}, j = {j}\")"
   ]
  },
  {
   "cell_type": "code",
   "execution_count": null,
   "metadata": {},
   "outputs": [],
   "source": [
    "# write a for loop that prints out the integers 2 through 10, each on a new line, by using the range() fuction\n",
    "\n",
    "for n in range(2, 10):\n",
    "    print(f\"{n} \\n\")"
   ]
  },
  {
   "cell_type": "code",
   "execution_count": null,
   "metadata": {},
   "outputs": [],
   "source": [
    "# use a while loop that prints out the integers 2 through 10\n",
    "# hint: create a new integer first\n",
    "\n",
    "integer = 2\n",
    "while integer < 10:\n",
    "    print(integer)\n",
    "    integer += 1"
   ]
  },
  {
   "cell_type": "code",
   "execution_count": null,
   "metadata": {},
   "outputs": [],
   "source": [
    "# write a function called doubles( ) that takes one number as its input and doubles that number.\n",
    "# Then use the doubles() function in a loop to dfouble the number 2 three times, displaying\n",
    "# each result on a separate line.\n",
    "\n",
    "\n",
    "def doubles(n):\n",
    "    return n * 2\n",
    "\n",
    "\n",
    "counter = 0\n",
    "\n",
    "n = int(input(\"Add a number to double: \"))\n",
    "while counter < 3:\n",
    "    print(f\"{doubles(n)}\")\n",
    "    n = doubles(n)\n",
    "    counter += 1"
   ]
  },
  {
   "cell_type": "markdown",
   "metadata": {},
   "source": [
    "## 6.5 Challenge: track your investment\n",
    "\n",
    "Write a program that tracks the growing amount of an investment over time.  An initial depoist, called the principal amount, is made. Each year, the amount increases by a fixed percentage, called the annual rate of return. \n",
    "\n",
    "Write a function called invest with three parameters: the principal amount, the annual rate of return and the number of years to calculate. \n",
    "\n",
    "The function prints out the amount of the investmentm rounded to 2 decimal places, and the end of each year for the specific number of years. \n",
    "\n",
    "For example, calling invest (100, 0.5, 4) should print the following: \n",
    "\n",
    "year 1: $105.00\n",
    "\n",
    "year 2: $110.25\n",
    "\n",
    "year 3: $115.76\n",
    "\n",
    "year 4: $121.55\n"
   ]
  },
  {
   "cell_type": "code",
   "execution_count": null,
   "metadata": {},
   "outputs": [],
   "source": [
    "def invest(principal, interest, years):\n",
    "    for year in range(1, years + 1):\n",
    "        print(f\"Year {year}: $ {principal * (1+interest) : .2f}\")\n",
    "        principal *= 1 + interest"
   ]
  },
  {
   "cell_type": "code",
   "execution_count": null,
   "metadata": {},
   "outputs": [],
   "source": [
    "invest(100, 0.05, 4)"
   ]
  },
  {
   "cell_type": "markdown",
   "metadata": {},
   "source": [
    "# 8.4 Challenge: Find the  factors of a number\n",
    "\n",
    "Write a script factors.py that asks the user to input a positive integer\n",
    "and then prints out the factors of that number."
   ]
  },
  {
   "cell_type": "code",
   "execution_count": null,
   "metadata": {},
   "outputs": [],
   "source": [
    "n = int(input(\"Enter a positive integer\"))\n",
    "for i in range(1, n + 1):\n",
    "    if n % i == 0:\n",
    "        print(f\"{i} is a factor of {n}\")"
   ]
  },
  {
   "cell_type": "markdown",
   "metadata": {},
   "source": [
    "# 8.5 Break out of pattern\n",
    "\n",
    "**Break**: Break out of a loop. The loop stops competely and any code after the loop is executed"
   ]
  },
  {
   "cell_type": "code",
   "execution_count": null,
   "metadata": {},
   "outputs": [],
   "source": [
    "for n in range(0, 4):\n",
    "    if n == 2:\n",
    "        break\n",
    "    print(n)\n",
    "print(f\"Finisheed with n = {n}\")"
   ]
  },
  {
   "cell_type": "markdown",
   "metadata": {},
   "source": [
    "**Continue**: Used to skip any remaining code in the loop body and continue on to the *next iteration*."
   ]
  },
  {
   "cell_type": "code",
   "execution_count": null,
   "metadata": {},
   "outputs": [],
   "source": [
    "for i in range(0, 4):\n",
    "    if i == 2:\n",
    "        continue\n",
    "    print(i)\n",
    "print(f\"Finished with i = {i}\")"
   ]
  },
  {
   "cell_type": "code",
   "execution_count": null,
   "metadata": {},
   "outputs": [],
   "source": [
    "phrase = \"it marks the spot\"\n",
    "for character in phrase:\n",
    "    if character == \"X\":\n",
    "        break\n",
    "else:\n",
    "    print(\"There was no 'X' in the phrase\")"
   ]
  },
  {
   "cell_type": "code",
   "execution_count": null,
   "metadata": {},
   "outputs": [],
   "source": [
    "for n in range(3):\n",
    "    password = input(\"Password: \")\n",
    "    if password == \"I<3Bieber\":\n",
    "        print(\"Password accepted\")\n",
    "        break\n",
    "    print(\"Password is incorrect.\")\n",
    "else:\n",
    "    print(\"Suspicious activity. The authorities have been alerted.\")"
   ]
  },
  {
   "cell_type": "markdown",
   "metadata": {},
   "source": [
    "# Exceptions \n",
    "\n",
    "TypeEroor = When an operation is performed on a value of the wrong type.\n",
    "\n",
    "NameError = When you try to use a variable name that hasn't been defined yet.\n",
    "\n",
    "ZeroDivisionError = Occurs when the divisor in a division operation is 0.\n",
    "\n",
    "OverflowError = Occurs when the result of an arithmetic operation is too large."
   ]
  },
  {
   "cell_type": "markdown",
   "metadata": {},
   "source": [
    "## Try and except Keywords \n",
    "\n",
    "Sometimes you can predict that a certain expection might occur. Instead of letting the program crash, you can catch the error if it occurs and do something else instead. \n",
    "\n"
   ]
  },
  {
   "cell_type": "code",
   "execution_count": null,
   "metadata": {},
   "outputs": [],
   "source": [
    "try:\n",
    "    number = int(input(\"Enter an integer: \"))\n",
    "except ValueError:\n",
    "    print(\"That was not an integer.\")"
   ]
  },
  {
   "cell_type": "markdown",
   "metadata": {},
   "source": [
    "The *try* keyword is used to indicate a try block and is followed by a colon. The code idented after the try is executed. In this case, the user is asked to input an integer. Since input() returns a string, the user input is converted to an interger with int() and the result is assigned to the variable number.\n",
    "\n",
    "If the user inputs a non-integer value, the int() will raise a ValueError. If that happens, the code idented below the line expect ValueError is executed. So, instead of the program crashing, the string  \"That was not an integer\" is displayed.\n"
   ]
  },
  {
   "cell_type": "code",
   "execution_count": 4,
   "metadata": {},
   "outputs": [
    {
     "name": "stdout",
     "output_type": "stream",
     "text": [
      "Enter an integer\n",
      "Enter an integer\n",
      "Enter an integer\n",
      "Enter an integer\n",
      "Enter an integer\n",
      "Correct input\n"
     ]
    }
   ],
   "source": [
    "\"\"\"\n",
    "Write a script that repeatedly asks the user to input\n",
    "an integer, displaying a message to \"try again\" by \n",
    "catching the ValueError that is raised if the user did\n",
    "not enter an integer.\n",
    "\"\"\"\n",
    "while True:\n",
    "    try:\n",
    "        int(input(\"Enter an integer: \"))\n",
    "        print(\"Correct input\")\n",
    "        break\n",
    "    except ValueError:\n",
    "        print(\"Enter an integer\")"
   ]
  },
  {
   "cell_type": "markdown",
   "metadata": {},
   "source": [
    "# Simulate events and calculate probabilities\n",
    "\n"
   ]
  },
  {
   "cell_type": "code",
   "execution_count": 5,
   "metadata": {},
   "outputs": [
    {
     "data": {
      "text/plain": [
       "8"
      ]
     },
     "execution_count": 5,
     "metadata": {},
     "output_type": "execute_result"
    }
   ],
   "source": [
    "import random\n",
    "\n",
    "random.randint(1, 10)"
   ]
  },
  {
   "cell_type": "code",
   "execution_count": 6,
   "metadata": {},
   "outputs": [],
   "source": [
    "import random\n",
    "\n",
    "\n",
    "def coin_challenge():\n",
    "    \"Randomly returns H or tails\"\n",
    "    if random.randint(0, 1) == 0:\n",
    "        return \"H\"\n",
    "    else:\n",
    "        return \"tails\""
   ]
  },
  {
   "cell_type": "code",
   "execution_count": 7,
   "metadata": {},
   "outputs": [
    {
     "name": "stdout",
     "output_type": "stream",
     "text": [
      "The ratio of heads to tails is 0.9661816751867872.\n"
     ]
    }
   ],
   "source": [
    "# Writing a for loop that flips the coin 10,000 times\n",
    "\n",
    "H_tally = 0\n",
    "tails_tally = 0\n",
    "\n",
    "for trial in range(10_000):\n",
    "    if coin_challenge() == \"H\":\n",
    "        H_tally += 1\n",
    "    else:\n",
    "        tails_tally += 1\n",
    "ratio = H_tally / tails_tally\n",
    "print(f\"The ratio of H to tails is {ratio}.\")"
   ]
  },
  {
   "cell_type": "code",
   "execution_count": 35,
   "metadata": {},
   "outputs": [
    {
     "data": {
      "text/plain": [
       "5"
      ]
     },
     "execution_count": 35,
     "metadata": {},
     "output_type": "execute_result"
    }
   ],
   "source": [
    "# Write a function called roll() that uses the randint() function to\n",
    "# simulate rolling a fair die by returning a random integer between\n",
    "# 1 and 6.\n",
    "\n",
    "\n",
    "def roll():\n",
    "    return random.randint(1, 6)\n",
    "\n",
    "\n",
    "roll()"
   ]
  },
  {
   "cell_type": "code",
   "execution_count": 43,
   "metadata": {},
   "outputs": [
    {
     "name": "stdout",
     "output_type": "stream",
     "text": [
      "3.5134\n"
     ]
    }
   ],
   "source": [
    "# Write a script that simulates 10,000 rolls of a fair die and displays\n",
    "# the average number rolled.\n",
    "list_roll = []\n",
    "import numpy as np\n",
    "\n",
    "for i in range(10_000):\n",
    "    list_roll.append(roll())\n",
    "result = np.mean(list_roll)\n",
    "print(result)"
   ]
  },
  {
   "cell_type": "markdown",
   "metadata": {},
   "source": [
    "## 8.8 Challenge: Simulate a coin toss experiment\n",
    "\n",
    "Suppose you flip a fair coin repeatedly until it lands on both heads\n",
    "and tails at least once each. In other words, after the first flip, you\n",
    "continue to flip the coin until it lands on something different.\n",
    "Doing this generates a sequence of heads and tails. For example, the\n",
    "first time you do this experiment, the sequence might be heads, heads,\n",
    "then tails.\n",
    "On average, how many flips are needed for the sequence to contain\n",
    "both heads and tails?\n",
    "Write a simulation that runs 10,000 trials of the experiment and\n",
    "prints the average number of flips per trial."
   ]
  },
  {
   "cell_type": "code",
   "execution_count": 132,
   "metadata": {},
   "outputs": [
    {
     "name": "stdout",
     "output_type": "stream",
     "text": [
      "1.5053\n"
     ]
    }
   ],
   "source": [
    "def coin_challenge():\n",
    "    if random.randint(0, 1) == 1:\n",
    "        return \"H\"\n",
    "    else:\n",
    "        return \"T\"\n",
    "\n",
    "\n",
    "flips = 0\n",
    "trials = 10_000\n",
    "for i in range(trials):\n",
    "    if coin_challenge() == \"H\":\n",
    "        flips += 1\n",
    "        while coin_challenge() == \"H\":\n",
    "            flips += 1\n",
    "    elif coin_challenge() == \"T\":\n",
    "        flips += 1\n",
    "        while coin_challenge() == \"T\":\n",
    "            flips += 1\n",
    "avg = flips / trials\n",
    "print(avg)"
   ]
  },
  {
   "cell_type": "markdown",
   "metadata": {},
   "source": [
    "# 8.9 Challenge: Simulate an Election\n",
    "Write a program that simulates an election 10,000 times and prints the percentage where candidate A wins.\n",
    "to keep things simple, assume taht a candidarte winns the election if wins in two of the three regions.\n",
    "\n",
    "\n"
   ]
  },
  {
   "cell_type": "code",
   "execution_count": 124,
   "metadata": {},
   "outputs": [],
   "source": [
    "import random\n",
    "\n",
    "victory_prob = [0.87, 0.65, 0.17]\n",
    "\n",
    "\n",
    "def who_wins():\n",
    "    return all(random.random() > victory for victory in victory_prob)"
   ]
  },
  {
   "cell_type": "code",
   "execution_count": 131,
   "metadata": {},
   "outputs": [
    {
     "name": "stdout",
     "output_type": "stream",
     "text": [
      "Candidate A won 3.68% times\n"
     ]
    }
   ],
   "source": [
    "victory_A = 0\n",
    "tests = 10_000\n",
    "for i in range(tests):\n",
    "    if who_wins():\n",
    "        victory_A += 1\n",
    "print(f\"Candidate A won {victory_A / tests * 100:.2f}% times\")"
   ]
  },
  {
   "cell_type": "markdown",
   "metadata": {},
   "source": [
    "# Tuples, lists, and dictionaries\n",
    "**Tuple**: a finite ordered sequence of values.  They are ordered and noted under parentheses. To craeate them \n",
    "1. Tuple literals\n",
    "2. the tuple() built-in \n",
    "\n",
    "If you wanna write one element you cant use x = (1), it will be an integer, you need to do x = (1, )\n",
    "\n",
    "```python\t\n",
    "tuple(\"Python\") \n",
    "('P', 'y', 't', 'h', 'o', 'n')\n",
    "```\n",
    "\n",
    "tuple() only accepts a single parameter, so you can't just list the values  you want in the tuple as individual argument. If you do, Python raises a TypeError. \n",
    "```python\t\n",
    "tuple(1, 2, 3)\n",
    "Traceback (most recent call last):\n",
    "File \"<pyshell#0>\", line 1, in <module>\n",
    "tuple(1, 2, 3)\n",
    "TypeError: tuple expected at most 1 arguments, got 3\n",
    "```\n",
    "\n",
    "Tuples are immutable. This means you can't change the value of an element of a tuple once it has been created. \n",
    "Another way of creating a tuple is\n",
    "```python\t\n",
    "coordinates = 4.21, 9.29\n",
    "type(coordinates)\n",
    "<class 'tuple'>\n",
    "```\n",
    "To unpack you can use \n",
    "```python\n",
    "x, y = coordinates \n",
    "```\n",
    "By combining tuple packing and unpacking, you can make multiple variable assignments in a single line: \n",
    "```python\n",
    "name, age, occupation = \"David\", 34, \"programmer\"\n",
    "name \n",
    "'David'\n",
    "```\n",
    "\n",
    "While assigning a multiple variable in a single line can shorten the number of lines in a program, you may want to refrain from assigning too many values in a single line.\n",
    "Assigning more than two or three variables this way can make it difficult to tell which value is assigned to which variable name. Keep in mind that the number of variable names on the left of the assignment expression must equal the number of values ub the tuple on the right hand side, otherwise Python will raise ValueError.\n",
    "\n",
    "\n",
    "\n"
   ]
  },
  {
   "cell_type": "code",
   "execution_count": 132,
   "metadata": {},
   "outputs": [
    {
     "data": {
      "text/plain": [
       "True"
      ]
     },
     "execution_count": 132,
     "metadata": {},
     "output_type": "execute_result"
    }
   ],
   "source": [
    "# To check whether or not a value is contained in a tuple with the keyword.\n",
    "\n",
    "vowels = (\"a\", \"e\", \"i\", \"o\", \"u\")\n",
    "\"o\" in vowels"
   ]
  },
  {
   "cell_type": "code",
   "execution_count": 133,
   "metadata": {},
   "outputs": [
    {
     "data": {
      "text/plain": [
       "(5, 1)"
      ]
     },
     "execution_count": 133,
     "metadata": {},
     "output_type": "execute_result"
    }
   ],
   "source": [
    "# One common use of tuples is to return multiple values from a single function\n",
    "\n",
    "\n",
    "def adder_subtractor(num1, num2):\n",
    "    return (num1 + num2, num1 - num2)\n",
    "\n",
    "\n",
    "adder_subtractor(3, 2)"
   ]
  },
  {
   "cell_type": "code",
   "execution_count": 142,
   "metadata": {},
   "outputs": [
    {
     "name": "stdout",
     "output_type": "stream",
     "text": [
      "second\n",
      "first second third\n",
      "('l', 'a', 'n')\n"
     ]
    },
    {
     "data": {
      "text/plain": [
       "tuple"
      ]
     },
     "execution_count": 142,
     "metadata": {},
     "output_type": "execute_result"
    }
   ],
   "source": [
    "# Create a tuple literal named cardinal_numbers that holds the strings  \"first\", \"second\" and \"third\", in that order\n",
    "cardinal_numbers = (\"first\", \"second\", \"third\")\n",
    "type(cardinal_numbers)\n",
    "\n",
    "# using index notation and print(), display the string at index 1 in cardinal_numbers\n",
    "print(cardinal_numbers[1])\n",
    "\n",
    "# Unpack the values in cardinal_numbers into three new strings named position1, position2 and position3 in a single line of code,then print each value on a separate line.\n",
    "position1, position2, position3 = cardinal_numbers\n",
    "print(position1, position2, position3)\n",
    "\n",
    "# Create a tuple called my_name that contains the letters of your name by using tuple() and a string literal. Check if it has x\n",
    "my_name = tuple(\"Alan\")\n",
    "\"x\" in my_name\n",
    "# Crete a new tuple containing second and beyond letters in my_name using slicing notation\n",
    "print(my_name[1:])\n",
    "type(my_name[1:])"
   ]
  },
  {
   "cell_type": "markdown",
   "metadata": {},
   "source": [
    "## Lists\n",
    "\n",
    "A lits looksa lmost exactly like a tuple, but is surrounded by [] and in mutable. "
   ]
  },
  {
   "cell_type": "code",
   "execution_count": 143,
   "metadata": {},
   "outputs": [
    {
     "data": {
      "text/plain": [
       "['eggs', 'milk', 'cheese']"
      ]
     },
     "execution_count": 143,
     "metadata": {},
     "output_type": "execute_result"
    }
   ],
   "source": [
    "groceries = \"eggs, milk, cheese\"\n",
    "grocery_list = groceries.split(\", \")\n",
    "grocery_list"
   ]
  },
  {
   "cell_type": "code",
   "execution_count": 145,
   "metadata": {},
   "outputs": [
    {
     "data": {
      "text/plain": [
       "['burgundy', 'yellow', 'green', 'blue']"
      ]
     },
     "execution_count": 145,
     "metadata": {},
     "output_type": "execute_result"
    }
   ],
   "source": [
    "colors = [\"red\", \"yellow\", \"green\", \"blue\"]\n",
    "colors[0] = \"burgundy\"\n",
    "colors"
   ]
  },
  {
   "cell_type": "markdown",
   "metadata": {},
   "source": [
    "list.insert()\n",
    "Insert a single new value into a list. it takes two parameters , an index i and a value x\n",
    "\n",
    "list.pop() \n",
    "Takes one parameter, and index i, and removes the value from the list at that index. If dont pass an argument, it removes the last item. \n",
    "\n",
    "list.append() \n",
    "Append a new item to the end of a list \n",
    "\n",
    "list.extend() \n",
    "Add several new elements to the end of a list \n",
    "\n"
   ]
  },
  {
   "cell_type": "code",
   "execution_count": 152,
   "metadata": {},
   "outputs": [
    {
     "name": "stdout",
     "output_type": "stream",
     "text": [
      "(1, 2, 3, 4, 5, 6, 7, 8, 9) \n",
      " [1, 4, 9, 16, 25, 36, 49, 64, 81]\n"
     ]
    },
    {
     "data": {
      "text/plain": [
       "[1.5, 2.3, 5.25]"
      ]
     },
     "execution_count": 152,
     "metadata": {},
     "output_type": "execute_result"
    }
   ],
   "source": [
    "# List comprehension. Another way to create a list from an existing iterable is with a list comprehension\n",
    "numbers = (1, 2, 3, 4, 5, 6, 7, 8, 9)\n",
    "squares = [num**2 for num in numbers]\n",
    "print(numbers, \"\\n\", squares)\n",
    "\n",
    "# A list comprehension is ashort-hand for a loop. They are also used to convert a list of strings containing floating point values to a list of objects\n",
    "str_numbers = [\"1.5\", \"2.3\", \"5.25\"]\n",
    "float_numbers = [float(value) for value in str_numbers]\n",
    "float_numbers"
   ]
  },
  {
   "cell_type": "code",
   "execution_count": 5,
   "metadata": {},
   "outputs": [
    {
     "name": "stdout",
     "output_type": "stream",
     "text": [
      "['rice', 'pizza']\n",
      "pizza\n"
     ]
    },
    {
     "data": {
      "text/plain": [
       "['eggs', 'fruit', ' orange juice']"
      ]
     },
     "execution_count": 5,
     "metadata": {},
     "output_type": "execute_result"
    }
   ],
   "source": [
    "# Create a list named food with two elements \"rice\" and \"pizza\".\n",
    "food = [\"rice\", \"pizza\"]\n",
    "\n",
    "# Append the string \"brocolli\" to food using append().\n",
    "food.append(\"broccoli\")\n",
    "\n",
    "# Add the string \"bread\" and \"pizza\" to \"food\" using .extend().\n",
    "food.extend((\"bread\", \"pizza\"))\n",
    "\n",
    "# Print the first two items in the food list using print() and slicing notation.\n",
    "print(food[:2])\n",
    "\n",
    "# Print the last item in food using print() and index notation.\n",
    "print(food[-1])\n",
    "\n",
    "# Create a list called breakfast from the string \"eggs, fruit, orange,juice\" using the string .split() method.\n",
    "breakfast = \"eggs,fruit, orange juice\".split(\",\")\n",
    "breakfast"
   ]
  },
  {
   "cell_type": "code",
   "execution_count": 6,
   "metadata": {},
   "outputs": [
    {
     "data": {
      "text/plain": [
       "3"
      ]
     },
     "execution_count": 6,
     "metadata": {},
     "output_type": "execute_result"
    }
   ],
   "source": [
    " # Verify that breakfast has 3 items using len\n",
    "len(breakfast)"
   ]
  },
  {
   "cell_type": "code",
   "execution_count": 7,
   "metadata": {},
   "outputs": [
    {
     "name": "stdout",
     "output_type": "stream",
     "text": [
      "[4, 5, 13]\n"
     ]
    }
   ],
   "source": [
    "#Create a new list called lengths using a list comprehension that contains the lengths of each string in the breakfast list.\n",
    "lengths = []\n",
    "for item in breakfast:\n",
    "    lengths.append(len(item))\n",
    "print(lengths)"
   ]
  },
  {
   "cell_type": "markdown",
   "metadata": {},
   "source": [
    "### Nesting, copying and sorting tuples and lists\n"
   ]
  },
  {
   "cell_type": "markdown",
   "metadata": {},
   "source": [
    "A nested list, or nested tuple, is a list or tuple that is contained as a value in another list or tuple."
   ]
  },
  {
   "cell_type": "code",
   "execution_count": 9,
   "metadata": {},
   "outputs": [
    {
     "data": {
      "text/plain": [
       "2"
      ]
     },
     "execution_count": 9,
     "metadata": {},
     "output_type": "execute_result"
    }
   ],
   "source": [
    "two_by_two = [[1,2], [3,4]]\n",
    "len(two_by_two)\n"
   ]
  },
  {
   "cell_type": "code",
   "execution_count": 11,
   "metadata": {},
   "outputs": [
    {
     "data": {
      "text/plain": [
       "3"
      ]
     },
     "execution_count": 11,
     "metadata": {},
     "output_type": "execute_result"
    }
   ],
   "source": [
    "# We can use fouble index notation to access an element in the nested list.\n",
    "two_by_two[1][0] \n",
    "# remember index starts at 0"
   ]
  },
  {
   "cell_type": "markdown",
   "metadata": {},
   "source": [
    "> For copying lists we can't assing it to a new variable because if we change a value the original value will be overwritten. This happens due to the nature of object-oriented programming as both large_cats and animals variables refer to the same object."
   ]
  },
  {
   "cell_type": "code",
   "execution_count": 12,
   "metadata": {},
   "outputs": [
    {
     "data": {
      "text/plain": [
       "['lion', 'tiger', 'frumious Bandersnatch', 'Tiger']"
      ]
     },
     "execution_count": 12,
     "metadata": {},
     "output_type": "execute_result"
    }
   ],
   "source": [
    "animals = [\"lion\", \"tiger\", \"frumious Bandersnatch\"]\n",
    "large_cats = animals\n",
    "large_cats.append(\"Tiger\")\n",
    "animals"
   ]
  },
  {
   "cell_type": "code",
   "execution_count": 13,
   "metadata": {},
   "outputs": [
    {
     "name": "stdout",
     "output_type": "stream",
     "text": [
      "['lion', 'tiger', 'frumious Bandersnatch'] \n",
      " ['lion', 'tiger', 'frumious Bandersnatch', 'leopard']\n"
     ]
    }
   ],
   "source": [
    "# The way to do it is by using slice technique\n",
    "animals = [\"lion\", \"tiger\", \"frumious Bandersnatch\"]\n",
    "large_cats = animals[:]\n",
    "large_cats.append(\"leopard\")\n",
    "print(animals, \"\\n\", large_cats)"
   ]
  },
  {
   "cell_type": "code",
   "execution_count": 14,
   "metadata": {},
   "outputs": [
    {
     "data": {
      "text/plain": [
       "['blue', 'green', 'red', 'yellow']"
      ]
     },
     "execution_count": 14,
     "metadata": {},
     "output_type": "execute_result"
    }
   ],
   "source": [
    "# Lists of strings are sorted alphabetically\n",
    "colors = [\"red\", \"yellow\", \"green\", \"blue\"]\n",
    "colors.sort()\n",
    "colors"
   ]
  },
  {
   "cell_type": "code",
   "execution_count": 15,
   "metadata": {},
   "outputs": [
    {
     "data": {
      "text/plain": [
       "[1, 3, 5, 10]"
      ]
     },
     "execution_count": 15,
     "metadata": {},
     "output_type": "execute_result"
    }
   ],
   "source": [
    "# Lists of numbers are sorted numerically\n",
    "numbers = [1, 10, 5, 3]\n",
    "numbers.sort()\n",
    "numbers"
   ]
  },
  {
   "cell_type": "markdown",
   "metadata": {},
   "source": [
    ".sort( ) sorts the list in place, so you don't need to assign it's result to anything. \n",
    "\n",
    ".sort( ) has an option parameter called *key* that can be used to adjust how the lists gets sorted. The *key* parameter accepts a function, and the list is sorted based on the return value of that function."
   ]
  },
  {
   "cell_type": "code",
   "execution_count": 16,
   "metadata": {},
   "outputs": [
    {
     "data": {
      "text/plain": [
       "['red', 'blue', 'green', 'yellow']"
      ]
     },
     "execution_count": 16,
     "metadata": {},
     "output_type": "execute_result"
    }
   ],
   "source": [
    "# To sort a list of strings by the length of each string, you can pass the len function to key\n",
    "colors = [\"red\", \"yellow\",\"green\", \"blue\"]\n",
    "colors.sort(key=len)\n",
    "colors"
   ]
  },
  {
   "cell_type": "code",
   "execution_count": 17,
   "metadata": {},
   "outputs": [
    {
     "data": {
      "text/plain": [
       "[(-9, 0), (4, 1), (1, 2)]"
      ]
     },
     "execution_count": 17,
     "metadata": {},
     "output_type": "execute_result"
    }
   ],
   "source": [
    "# You can also pass user defined functions to key.\n",
    "def get_second_element(item):\n",
    "    return item[1]\n",
    "\n",
    "items = [(4, 1), (1, 2), (-9, 0)]\n",
    "items.sort(key=get_second_element)\n",
    "items\n",
    "\n",
    "#It is sorting by 0, 1 and 2 (the second element of each group)"
   ]
  },
  {
   "cell_type": "markdown",
   "metadata": {},
   "source": [
    "Review Exercises \n",
    "\n",
    "1. Create a tuple data with two values. The first value should be the tuple (1,2) and the second value should be the tuple (3,4)\n",
    "\n"
   ]
  },
  {
   "cell_type": "code",
   "execution_count": 18,
   "metadata": {},
   "outputs": [],
   "source": [
    "data = ((1,2),(3,4))"
   ]
  },
  {
   "cell_type": "markdown",
   "metadata": {},
   "source": [
    "2. Write a for loop that loops over data and prints the sum of each nestes tuple"
   ]
  },
  {
   "cell_type": "code",
   "execution_count": 25,
   "metadata": {},
   "outputs": [
    {
     "name": "stdout",
     "output_type": "stream",
     "text": [
      "Row 1 sum: 3\n",
      "Row 2 sum: 7\n"
     ]
    }
   ],
   "source": [
    "for tuple_group, tuple_item in enumerate(data):\n",
    "    print(f\"Row {tuple_group+1} sum: {sum(tuple_item)}\")"
   ]
  },
  {
   "cell_type": "markdown",
   "metadata": {},
   "source": [
    "3,4 and 5. Create the following list [4, 3, 2, 1] and assign it to the variable numbers. Create a copy using slicing notation and sort it in numerical order."
   ]
  },
  {
   "cell_type": "code",
   "execution_count": 26,
   "metadata": {},
   "outputs": [
    {
     "name": "stdout",
     "output_type": "stream",
     "text": [
      "[4, 3, 2, 1] \n",
      " [1, 2, 3, 4]\n"
     ]
    }
   ],
   "source": [
    "numbers = [4, 3, 2, 1]\n",
    "numbers2 = numbers[:]\n",
    "numbers2.sort()\n",
    "print(numbers, \"\\n\", numbers2)"
   ]
  },
  {
   "cell_type": "markdown",
   "metadata": {},
   "source": [
    "# 9.4 Challenge: list of lists \n",
    "Write a program that contains the following lists of lists: \n",
    "universities = [\n",
    "['California Institute of Technology', 2175, 37704],\n",
    "['Harvard', 19627, 39849],\n",
    "['Massachusetts Institute of Technology', 10566, 40732],\n",
    "['Princeton', 7802, 37000],\n",
    "['Rice', 5879, 35551],\n",
    "['Stanford', 19535, 40569],\n",
    "['Yale', 11701, 40500]\n",
    "]\n",
    "\n",
    "Define a function, enrollment_stats(), that takes, as an input, a list of lists where each individual list contains three elements: (a) the name of a university, (b) the total number of enrolled students, and (c) the annual tuition fees.\n",
    "\n",
    "enrollment_stats() should return two lists: the first containing all of the student enrollment values and the second containing all of the tuition fees.\n",
    "\n",
    "Next, define a mean() and a median() function. Both functions should take a single list as an argument and return the mean and median of\n",
    "the values in each list.\n",
    "\n",
    "Using universities, enrollment_stats(), mean(), and median(), calculate the total number of students, the total tuition, the mean and median of the number of students, and the mean and median tuition values.\n",
    "\n",
    "Finally, output all values, and format the output so that it looks like\n",
    "this:\n",
    "\n",
    "******************************\n",
    "Total students: 77,285\n",
    "Total tuition: $ 271,905\n",
    "Student mean: 11,040.71\n",
    "Student median: 10,566\n",
    "Tuition mean: $ 38,843.57\n",
    "Tuition median: $ 39,849\n",
    "******************************"
   ]
  },
  {
   "cell_type": "code",
   "execution_count": 43,
   "metadata": {},
   "outputs": [],
   "source": [
    "universities = [\n",
    "['California Institute of Technology', 2175, 37704],\n",
    "['Harvard', 19627, 39849],\n",
    "['Massachusetts Institute of Technology', 10566, 40732],\n",
    "['Princeton', 7802, 37000],\n",
    "['Rice', 5879, 35551],\n",
    "['Stanford', 19535, 40569],\n",
    "['Yale', 11701, 40500]\n",
    "]"
   ]
  },
  {
   "cell_type": "code",
   "execution_count": 64,
   "metadata": {},
   "outputs": [],
   "source": [
    "def enrollment_stats(university_list:list):\n",
    "    enrollments = []\n",
    "    tuitions = []\n",
    "    for item in university_list:\n",
    "        enrollments.append(item[1])\n",
    "        tuitions.append(item[2])\n",
    "    return [enrollments, tuitions]\n",
    "\n",
    "# Tip: if return enrollmnets, tuition as no data format was specified, it\n",
    "# will return tuples. Thats why the turn is inside [] to guarantee that the\n",
    "# return will be list"
   ]
  },
  {
   "cell_type": "code",
   "execution_count": 45,
   "metadata": {},
   "outputs": [
    {
     "name": "stdout",
     "output_type": "stream",
     "text": [
      "[77285, 271905]\n"
     ]
    }
   ],
   "source": [
    "print(enrollment_stats(universities))"
   ]
  },
  {
   "cell_type": "code",
   "execution_count": 38,
   "metadata": {},
   "outputs": [],
   "source": [
    "def mean_list(mean_list:list):\n",
    "    \"\"\" Calculate the mean of each list within a list of lists. \"\"\"\n",
    "    mean_results = []\n",
    "    for lst in mean_list:\n",
    "        mean = sum(lst)/len(lst)\n",
    "        mean_results.append(mean)\n",
    "    return mean_results\n"
   ]
  },
  {
   "cell_type": "code",
   "execution_count": 42,
   "metadata": {},
   "outputs": [
    {
     "data": {
      "text/plain": [
       "'\\t\\nWhy the positions //2-1 ? \\n\"//\" is to get an interger number and -1 to get the right position because in \\npython the first element is 0. That\\'s why we need to discount (-1)\\n'"
      ]
     },
     "execution_count": 42,
     "metadata": {},
     "output_type": "execute_result"
    }
   ],
   "source": [
    "def median_list(median_list:list):\n",
    "    \"\"\"Calculate the median of each list within a list of lists\"\"\"\n",
    "    median_results = []\n",
    "    for lst in median_list:\n",
    "        lst.sort()\n",
    "        positions = len(lst)\n",
    "        if positions % 2 == 0:\n",
    "            median = lst[positions//2 - 1] + lst[positions//2] /2\n",
    "        else:\n",
    "            median = lst[positions//2]\n",
    "        median_results.append(median)\n",
    "    return median_results\n",
    "'''\t\n",
    "Why the positions //2-1 ? \n",
    "\"//\" is to get an interger number and -1 to get the right position because in \n",
    "python the first element is 0. That's why we need to discount (-1)\n",
    "'''"
   ]
  },
  {
   "cell_type": "code",
   "execution_count": null,
   "metadata": {},
   "outputs": [],
   "source": [
    "******************************\n",
    "Total students: 77,285\n",
    "Total tuition: $ 271,905\n",
    "Student mean: 11,040.71\n",
    "Student median: 10,566\n",
    "Tuition mean: $ 38,843.57\n",
    "Tuition median: $ 39,849\n",
    "******************************"
   ]
  },
  {
   "cell_type": "code",
   "execution_count": null,
   "metadata": {},
   "outputs": [],
   "source": [
    "print(******************************)\n",
    "print(f\"Total students: {enrollment_stats(universities)[0]}\" )\n",
    "      \n",
    "Total students: 77,285\n",
    "Total tuition: $ 271,905\n",
    "Student mean: 11,040.71\n",
    "Student median: 10,566\n",
    "Tuition mean: $ 38,843.57\n",
    "Tuition median: $ 39,849\n",
    "******************************\n",
    ")"
   ]
  },
  {
   "cell_type": "code",
   "execution_count": 94,
   "metadata": {},
   "outputs": [
    {
     "name": "stdout",
     "output_type": "stream",
     "text": [
      "******************************\n",
      "Total students: 77,285\n",
      "Total tuition: $ 271,905\n",
      "Student mean: 11,040.71\n",
      "Student median: 10,566\n",
      "Tuition mean: $ 38,843.57\n",
      "Tuition median: 39,849 \n",
      "******************************\n"
     ]
    }
   ],
   "source": [
    "print(\"******************************\")\n",
    "print(f\"Total students: {sum(enrollment_stats(universities)[0]):,}\")\n",
    "print(f\"Total tuition: $ {sum(enrollment_stats(universities)[1]):,}\")\n",
    "\n",
    "print(f\"Student mean: {mean_list(enrollment_stats(universities))[0]:,.2f}\")\n",
    "print(f\"Student median: {median_list(enrollment_stats(universities))[0]:,}\")\n",
    "\n",
    "print(f\"Tuition mean: $ {mean_list(enrollment_stats(universities))[1]:,.2f}\")\n",
    "print(f\"Tuition median: {median_list(enrollment_stats(universities))[1]:,} \")\n",
    "\n",
    "print(\"******************************\")"
   ]
  },
  {
   "cell_type": "markdown",
   "metadata": {},
   "source": [
    "## Challenge 9.4\n",
    "In this challenge, you’ll write a program that generates poetry.\n",
    "Create five lists for different word types:\n",
    "\n",
    "• Nouns: [\"fossil\", \"horse\", \"aardvark\", \"judge\", \"chef\", \"mango\",\"extrovert\",\"gorilla\"]\n",
    "\n",
    "• Verbs: [\"kicks\", \"jingles\", \"bounces\", \"slurps\", \"meows\",\"explodes\", \"curdles\"]\n",
    "\n",
    "• Adjectives: [\"furry\", \"balding\", \"incredulous\", \"fragrant\",\"exuberant\", \"glistening\"]\n",
    "\n",
    "• Prepositions: [\"against\", \"after\", \"into\", \"beneath\", \"upon\",\"for\", \"in\", \"like\", \"over\", \"within\"]\n",
    "\n",
    "• Adverbs: [\"curiously\", \"extravagantly\", \"tantalizingly\",\"furiously\", \"sensuously\"]\n",
    "\n",
    "Using the randomly selected words, generate and display a poem with the following structure inspired by Clifford Pickover:\n",
    "{A/An} {adj1} {noun1}\n",
    "\n",
    "{A/An} {adj1} {noun1} {verb1} {prep1} the {adj2} {noun2}\n",
    "\n",
    "{adverb1}, the {noun1} {verb2}\n",
    "\n",
    "the {noun2} {verb3} {prep2} a {adj3} {noun3}\n",
    "\n"
   ]
  },
  {
   "cell_type": "code",
   "execution_count": 1,
   "metadata": {},
   "outputs": [],
   "source": [
    "#Creating the lists \n",
    "Nouns = [\"fossil\", \"horse\", \"aardvark\", \"judge\", \"chef\", \"mango\",\"extrovert\",\"gorilla\"]\n",
    "\n",
    "Verbs = [\"kicks\", \"jingles\", \"bounces\", \"slurps\", \"meows\",\"explodes\", \"curdles\"]\n",
    "\n",
    "Adjectives = [\"furry\", \"balding\", \"incredulous\", \"fragrant\",\"exuberant\", \"glistening\"]\n",
    "\n",
    "Prepositions = [\"against\", \"after\", \"into\", \"beneath\", \"upon\",\"for\", \"in\", \"like\", \"over\", \"within\"]\n",
    "\n",
    "Adverbs=[\"curiously\", \"extravagantly\", \"tantalizingly\",\"furiously\", \"sensuously\"]"
   ]
  },
  {
   "cell_type": "code",
   "execution_count": 2,
   "metadata": {},
   "outputs": [],
   "source": [
    "# Tip is to use random.choice \n",
    "import random\n",
    "# Testing the output of the function\n",
    "random_element = random.choice([\"a\",\"b\",\"c\"])"
   ]
  },
  {
   "cell_type": "code",
   "execution_count": 4,
   "metadata": {},
   "outputs": [
    {
     "name": "stdout",
     "output_type": "stream",
     "text": [
      "A incredulous gorilla\n"
     ]
    },
    {
     "data": {
      "text/plain": [
       "' \\n{A/An} {adj1} {noun1}\\n\\n{A/An} {adj1} {noun1} {verb1} {prep1} the {adj2} {noun2}\\n\\n{adverb1}, the {noun1} {verb2}\\n\\nthe {noun2} {verb3} {prep2} a {adj3} {noun3}\\n'"
      ]
     },
     "execution_count": 4,
     "metadata": {},
     "output_type": "execute_result"
    }
   ],
   "source": [
    "adj1 = random.choice(Adjectives)\n",
    "noun1 = random.choice(Nouns)\n",
    "\n",
    "if adj1.startswith(\"aeiou\"):\n",
    "    print(f\"An {adj1} {noun1}\")\n",
    "else:\n",
    "    print(f\"A {adj1} {noun1}\")\n",
    "\n",
    "''' \n",
    "{A/An} {adj1} {noun1}\n",
    "\n",
    "{A/An} {adj1} {noun1} {verb1} {prep1} the {adj2} {noun2}\n",
    "\n",
    "{adverb1}, the {noun1} {verb2}\n",
    "\n",
    "the {noun2} {verb3} {prep2} a {adj3} {noun3}\n",
    "'''"
   ]
  },
  {
   "cell_type": "code",
   "execution_count": 5,
   "metadata": {},
   "outputs": [],
   "source": [
    "# It is possible to create a function to select an unique term, avoiding repetition\n",
    "def get_unique_item(list_of_terms):\n",
    "    if list_of_terms: # if its not empty\n",
    "        unique_item = random.choice(list_of_terms)\n",
    "        list_of_terms.remove(unique_item)\n",
    "        return unique_item\n"
   ]
  },
  {
   "cell_type": "code",
   "execution_count": 9,
   "metadata": {},
   "outputs": [],
   "source": [
    "#Extract the item with the function \n",
    "adj1 = get_unique_item(Adjectives)\n",
    "noun1 = get_unique_item(Nouns)\n",
    "verb1 = get_unique_item(Verbs)\n",
    "prep1 = get_unique_item(Prepositions)\n",
    "adj2 = get_unique_item(Adjectives)\n",
    "noun2 = get_unique_item(Nouns)\n",
    "adverb1 = get_unique_item(Adverbs)\n",
    "verb2 = get_unique_item(Verbs)\n",
    "noun3 = get_unique_item(Nouns)\n",
    "verb3 = get_unique_item(Verbs)\n",
    "prep2 = get_unique_item(Prepositions)\n",
    "adj3 = get_unique_item(Adjectives)\n"
   ]
  },
  {
   "cell_type": "code",
   "execution_count": 10,
   "metadata": {},
   "outputs": [
    {
     "name": "stdout",
     "output_type": "stream",
     "text": [
      "A furry extrovert\n",
      "A furry extrovert explodes into the exuberant horse\n",
      "sensuously, the extrovert meows\n",
      "the horse kicks over a incredulous gorilla\n"
     ]
    }
   ],
   "source": [
    "# Print the result\n",
    "if adj1.startswith(\"aeiou\"):\n",
    "    print(f\"An {adj1} {noun1}\")\n",
    "else:\n",
    "    print(f\"A {adj1} {noun1}\")\n",
    "\n",
    "print(f\"A {adj1} {noun1} {verb1} {prep1} the {adj2} {noun2}\")\n",
    "print(f\"{adverb1}, the {noun1} {verb2}\")\n",
    "print(f\"the {noun2} {verb3} {prep2} a {adj3} {noun3}\")"
   ]
  }
 ],
 "metadata": {
  "kernelspec": {
   "display_name": "Python 3",
   "language": "python",
   "name": "python3"
  },
  "language_info": {
   "codemirror_mode": {
    "name": "ipython",
    "version": 3
   },
   "file_extension": ".py",
   "mimetype": "text/x-python",
   "name": "python",
   "nbconvert_exporter": "python",
   "pygments_lexer": "ipython3",
   "version": "undefined.undefined.undefined"
  },
  "orig_nbformat": 4
 },
 "nbformat": 4,
 "nbformat_minor": 2
}
