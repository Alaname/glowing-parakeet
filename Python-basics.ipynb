{
 "cells": [
  {
   "cell_type": "code",
   "execution_count": 1,
   "metadata": {},
   "outputs": [
    {
     "ename": "TypeError",
     "evalue": "'str' object does not support item assignment",
     "output_type": "error",
     "traceback": [
      "\u001b[1;31m---------------------------------------------------------------------------\u001b[0m",
      "\u001b[1;31mTypeError\u001b[0m                                 Traceback (most recent call last)",
      "Cell \u001b[1;32mIn[1], line 4\u001b[0m\n\u001b[0;32m      1\u001b[0m \u001b[39m# Strings are immutable \u001b[39;00m\n\u001b[0;32m      3\u001b[0m word \u001b[39m=\u001b[39m \u001b[39m\"\u001b[39m\u001b[39mgoal\u001b[39m\u001b[39m\"\u001b[39m\n\u001b[1;32m----> 4\u001b[0m word[\u001b[39m0\u001b[39;49m] \u001b[39m=\u001b[39m \u001b[39m\"\u001b[39m\u001b[39mf\u001b[39m\u001b[39m\"\u001b[39m\n",
      "\u001b[1;31mTypeError\u001b[0m: 'str' object does not support item assignment"
     ]
    }
   ],
   "source": [
    "# Strings are immutable\n",
    "\n",
    "word = \"goal\"\n",
    "word[0] = \"f\"\n",
    "\n",
    "# Most string methods that alter a string, actually return copies of the original string\n",
    "# With the appropriate modification\n"
   ]
  },
  {
   "cell_type": "code",
   "execution_count": 5,
   "metadata": {},
   "outputs": [
    {
     "name": "stdout",
     "output_type": "stream",
     "text": [
      "foal   FOAL\n"
     ]
    }
   ],
   "source": [
    "# To change the string we can use string slicing or methods\n",
    "\n",
    "word = \"f\" + word[1:]\n",
    "\n",
    "print(word, \" \", word.upper())\n"
   ]
  },
  {
   "cell_type": "markdown",
   "metadata": {},
   "source": [
    "# Challenge : Pick Apart Your User's Input\n",
    " Write a script named first_letter.py that first prompts the user for\n",
    "input by using the string \"Tell me your password:\" The script should\n",
    "then determine the first letter of the user’s input, convert that letter\n",
    "to upper-case, and display it back."
   ]
  },
  {
   "cell_type": "code",
   "execution_count": 8,
   "metadata": {},
   "outputs": [
    {
     "name": "stdout",
     "output_type": "stream",
     "text": [
      "Your first letter was:  P\n"
     ]
    }
   ],
   "source": [
    "response = input(\"Tell me your password:\")\n",
    "print(\"Your first letter was: \", response[0].upper())\n"
   ]
  },
  {
   "cell_type": "markdown",
   "metadata": {},
   "source": [
    "A **sequence** is any Python object that supports accessing elements by index. Strings are sequences"
   ]
  },
  {
   "cell_type": "code",
   "execution_count": 11,
   "metadata": {},
   "outputs": [
    {
     "name": "stdout",
     "output_type": "stream",
     "text": [
      "2222\n",
      "44.0\n"
     ]
    }
   ],
   "source": [
    "# To convert a string into a number\n",
    "string = \"22\"\n",
    "print(string * 2)\n",
    "string = float(string)\n",
    "print(string * 2)\n",
    "\n",
    "# To convert a number to string use str()\n"
   ]
  },
  {
   "cell_type": "code",
   "execution_count": 3,
   "metadata": {},
   "outputs": [
    {
     "name": "stdout",
     "output_type": "stream",
     "text": [
      "Zaphod has 2 heads and 3 arms\n",
      "Zaphod has 2 heads and 3 arms\n"
     ]
    },
    {
     "data": {
      "text/plain": [
       "'2 times 3 is 6'"
      ]
     },
     "execution_count": 3,
     "metadata": {},
     "output_type": "execute_result"
    }
   ],
   "source": [
    "# String interpolation = insert some variables into specific locations in a string.\n",
    "# One way is using comas to insert spaces between each part of the string inside a print()function.\n",
    "name, heads, arms = \"Zaphod\", 2, 3\n",
    "print(name, \"has\", str(heads), \"heads and\", str(arms), \"arms\")\n",
    "\n",
    "# Another way is concatenating the string with the + operator\n",
    "print(name + \" has \" + str(heads) + \" heads and \" + str(arms) + \" arms\")\n",
    "\n",
    "# Third way is formatted string literals\n",
    "f\"{name} has {heads} heads and {arms} arms \"\n",
    "\n",
    "# Can anso insert Python expressions\n",
    "n, m = 2, 3\n",
    "f\"{n} times {m} is {n*m}\"\n"
   ]
  },
  {
   "cell_type": "code",
   "execution_count": 4,
   "metadata": {},
   "outputs": [
    {
     "data": {
      "text/plain": [
       "4"
      ]
     },
     "execution_count": 4,
     "metadata": {},
     "output_type": "execute_result"
    }
   ],
   "source": [
    "# To find a string in a string\n",
    "phrase = \"the surprise is in here somehow\"\n",
    "phrase.find(\n",
    "    \"surprise\"\n",
    ")  # Returns the index of the first occurence of the string you pass to it.\n",
    "# If it does not find, it will return -1. If found many times it will return the first appearance.\n"
   ]
  },
  {
   "cell_type": "markdown",
   "metadata": {},
   "source": [
    "# Challenge: Turn Your User Into a L33t H4xor\n",
    "Write a script called translate.py that asks the user for some input\n",
    "with the following prompt: Enter some text:. Then use the .replace()\n",
    "method to convert the text entered by the user into “leetspeak” by making\n",
    "the following changes to lower-case letters:\n",
    "* The letter a becomes 4\n",
    "* The letter b becomes 8\n",
    "* The letter e becomes 3\n",
    "* The letter l becomes 1\n",
    "* The letter o becomes 0\n",
    "* The letter s becomes 5\n",
    "* The letter t becomes 7"
   ]
  },
  {
   "cell_type": "code",
   "execution_count": 19,
   "metadata": {},
   "outputs": [
    {
     "name": "stdout",
     "output_type": "stream",
     "text": [
      "h3110\n",
      "h3110\n"
     ]
    },
    {
     "data": {
      "text/plain": [
       "{97: 52, 98: 56, 101: 51, 108: 49, 111: 48, 115: 53, 116: 55}"
      ]
     },
     "execution_count": 19,
     "metadata": {},
     "output_type": "execute_result"
    }
   ],
   "source": [
    "# The normal way of doing it is according to the book:\n",
    "my_text = input(\"Enter some text: \").lower()\n",
    "\n",
    "my_text = my_text.replace(\"a\", \"4\")\n",
    "my_text = my_text.replace(\"b\", \"8\")\n",
    "my_text = my_text.replace(\"e\", \"3\")\n",
    "my_text = my_text.replace(\"l\", \"1\")\n",
    "my_text = my_text.replace(\"o\", \"0\")\n",
    "my_text = my_text.replace(\"s\", \"5\")\n",
    "my_text = my_text.replace(\"t\", \"7\")\n",
    "print(my_text)\n",
    "\n",
    "# The alternative way without iterating over it is:\n",
    "turner = input(\"Enter some text: \").lower()\n",
    "letters = \"abelost\"\n",
    "numbers = \"4831057\"\n",
    "\n",
    "conversion_ref = str.maketrans(letters, numbers)\n",
    "turner = turner.translate(conversion_ref)\n",
    "print(turner)\n",
    "\n",
    "# str.maketrans is a method that returns a mapping table that can beused with translate() method to replace specific characters .\n",
    "conversion_ref  # to check what is is like\n"
   ]
  },
  {
   "cell_type": "code",
   "execution_count": 21,
   "metadata": {},
   "outputs": [
    {
     "data": {
      "text/plain": [
       "1000.0"
      ]
     },
     "execution_count": 21,
     "metadata": {},
     "output_type": "execute_result"
    }
   ],
   "source": [
    "# There are two ways of writing integers\n",
    "10000000\n",
    "1_000_000\n",
    "\n",
    "# In python, we can't use commas to group digits but we use underscore (_)\n",
    "# In case of float\n",
    "1000.0\n",
    "1_000.0\n",
    "1e3  # Exponential notation. For negative use 1e-4 for example to obtain 0.0001\n",
    "\n",
    "# intergers dont have maximum size but floats do.\n",
    "\n",
    "# For operations, PEP8 recommends separating both operands form an operator with a space.\n"
   ]
  },
  {
   "cell_type": "markdown",
   "metadata": {},
   "source": [
    "# Challenge 5.3: Perform Calculations on User Input\n",
    "Write a script called exponent.py that receives two numbers from the\n",
    "user and displays the first number raised to the power of the second\n",
    "number.\n",
    "A sample run of the program should look like this (with example input\n",
    "that has been provided by the user included below):\n",
    "\n",
    "1. Before you can do anything with the user’s input, you will have to\n",
    "assign both calls to input() to new variables.\n",
    "2. The input() function returns a string, so you’ll need to convert the\n",
    "user’s input into numbers in order to do arithmetic.\n",
    "3. You can use an f-string to print the result.\n",
    "4. You can assume that the user will enter actual numbers as input."
   ]
  },
  {
   "cell_type": "code",
   "execution_count": 32,
   "metadata": {},
   "outputs": [
    {
     "data": {
      "text/plain": [
       "'2 to the power of 4 is 16'"
      ]
     },
     "execution_count": 32,
     "metadata": {},
     "output_type": "execute_result"
    }
   ],
   "source": [
    "n1, n2 = map(int, input(\"Please tell two numbers separated by space: \").split())\n",
    "# map (function, iterable)\n",
    "f\"{n1} to the power of {n2} is {n1**n2}\"\n"
   ]
  },
  {
   "cell_type": "markdown",
   "metadata": {},
   "source": [
    "Write a script that asks the user to input a number and then displays\n",
    "that number rounded to two decimal places. When run, your\n",
    "program should look like this:\n",
    "\n",
    "Enter a number: 5.432\n",
    "\n",
    "5.432 rounded to 2 decimal places is 5.43"
   ]
  },
  {
   "cell_type": "code",
   "execution_count": 36,
   "metadata": {},
   "outputs": [
    {
     "data": {
      "text/plain": [
       "'1.3452391 rounded to 2 decilams places is 1.35'"
      ]
     },
     "execution_count": 36,
     "metadata": {},
     "output_type": "execute_result"
    }
   ],
   "source": [
    "n = float(input(\"Enter a number: \"))\n",
    "f\"{n} rounded to 2 decilams places is {round(n, 2)}\"\n"
   ]
  },
  {
   "cell_type": "markdown",
   "metadata": {},
   "source": [
    "Write a script that asks the user to input two numbers, then display wheter or not the difference between those two numbers is an interger. \n",
    "\n",
    "It should look like this: \n",
    "\n",
    "Enter a number: 1.5\n",
    "Enter another number: .5\n",
    "The difference is an intenger ? True "
   ]
  },
  {
   "cell_type": "code",
   "execution_count": 39,
   "metadata": {},
   "outputs": [
    {
     "data": {
      "text/plain": [
       "'The result of 13.5 - 1.2 being an integer is : False'"
      ]
     },
     "execution_count": 39,
     "metadata": {},
     "output_type": "execute_result"
    }
   ],
   "source": [
    "n1, n2 = map(\n",
    "    float, input(\"Enter two numbers to see if the difference is an interger: \").split()\n",
    ")\n",
    "result = (n1 - n2).is_integer()\n",
    "f\"The result of {n1} - {n2} being an integer is : {result}\"\n"
   ]
  },
  {
   "cell_type": "code",
   "execution_count": 2,
   "metadata": {},
   "outputs": [
    {
     "data": {
      "text/plain": [
       "'The value of n is  7.12'"
      ]
     },
     "execution_count": 2,
     "metadata": {},
     "output_type": "execute_result"
    }
   ],
   "source": [
    "# Printing numbers in style\n",
    "# For example, to format the value of n in the above example to two\n",
    "# decimal places, replace the contents of the curly braces in the f-string\n",
    "# with {n:.2f}\n",
    "# Everything after the colon is formatting specification.\n",
    "\n",
    "\n",
    "n = 7.125\n",
    "f\"The value of n is {n: .2f}\"\n"
   ]
  },
  {
   "cell_type": "code",
   "execution_count": 3,
   "metadata": {},
   "outputs": [
    {
     "data": {
      "text/plain": [
       "'The value on 123456789 is  123,456,789'"
      ]
     },
     "execution_count": 3,
     "metadata": {},
     "output_type": "execute_result"
    }
   ],
   "source": [
    "# Can also be used for groupping\n",
    "n = 123456789\n",
    "f\"The value on {n} is {n: ,}\"\n"
   ]
  },
  {
   "cell_type": "code",
   "execution_count": 5,
   "metadata": {},
   "outputs": [
    {
     "data": {
      "text/plain": [
       "\"Over 90.0% of Pythonistas say 'Real Python rocks' \""
      ]
     },
     "execution_count": 5,
     "metadata": {},
     "output_type": "execute_result"
    }
   ],
   "source": [
    "# Another useful option is % wich is isued to display percentages . It multiplies a number by 100\n",
    "# and displays it in fixed-point format, followed by a percentage sign.\n",
    "\n",
    "ratio = 0.9\n",
    "f\"Over {ratio:.1%} of Pythonistas say 'Real Python rocks' \"\n"
   ]
  },
  {
   "cell_type": "code",
   "execution_count": 19,
   "metadata": {},
   "outputs": [
    {
     "data": {
      "text/plain": [
       "' 20%'"
      ]
     },
     "execution_count": 19,
     "metadata": {},
     "output_type": "execute_result"
    }
   ],
   "source": [
    "# Print the result of the calculation 3 ** .125 as a fixed-point number with 3 decimal places\n",
    "f\"{3 ** .125: .3f}\"\n",
    "\n",
    "# Print  150000 as curency, with the thousand group commas\n",
    "f\"{150000: ,.2f}\"\n",
    "\n",
    "# Print 2 / 10 as a percentage with no decimal places. It should look like 20%\n",
    "f\"{2 / 10: .0%}\"\n"
   ]
  },
  {
   "cell_type": "markdown",
   "metadata": {},
   "source": [
    "## Functions and loops\n",
    "\n",
    "- Functions are values and can be assigend to a variable \n",
    "```python\n",
    "type(len)\n",
    "<class 'builtin_function_or_method'>\n",
    "```\n",
    "\n",
    "Interestingly, you can use the same word for giving it a value\n",
    "\n",
    "```python\n",
    "len = \"I am not the len you are looking for\"\n",
    "type(len)\n",
    "<class  'str'>\n",
    "```\n",
    "\n",
    "We can use del, which stands for delete, but it does not delete the value. Instead, it detaches the name from the value and deletes the name.\n",
    "\n",
    "An **argument** is a value that gets **passed** to the function as input. Some functions can be called with no arguments, and some can take as many arguments as you like. len( ) requires exactly one argument.\n",
    "\n",
    "Every function has two parts:\n",
    "1. The function signature defines the name of the function and inputs it expects.\n",
    "2. The function body contains the code that runs every time the function is used.\n",
    "\n",
    "```python\n",
    "def multiply(x, y): # Function signature\n",
    "    #Function body\n",
    "    product = x * y \n",
    "    return product\n",
    "```\n",
    "The parameter list is a list of parameter names surrounded by opening and closing parentheses. It defines the function’s expected inputs.\n",
    "(x, y) is the parameter list for the multiply function. It creates two\n",
    "parameters, x and y.\n",
    "\n",
    "A **parameter** is sort of like a variable, except that it has no value.\n",
    "It is a placeholder for actual values that are provided whenever the function is called with one or more arguments. A function can have any number of parameters, including no parameters at all. "
   ]
  },
  {
   "cell_type": "code",
   "execution_count": 21,
   "metadata": {},
   "outputs": [
    {
     "data": {
      "text/plain": [
       "8"
      ]
     },
     "execution_count": 21,
     "metadata": {},
     "output_type": "execute_result"
    }
   ],
   "source": [
    "def multiply(x, y):\n",
    "    product = x * y\n",
    "    return product\n",
    "\n",
    "\n",
    "multiply(2, 4)\n"
   ]
  },
  {
   "cell_type": "markdown",
   "metadata": {},
   "source": [
    "All functions in Python return a value, even if that value id None. However, not all functions need a return statement. "
   ]
  },
  {
   "cell_type": "code",
   "execution_count": 22,
   "metadata": {},
   "outputs": [
    {
     "name": "stdout",
     "output_type": "stream",
     "text": [
      "Hello, Alan!\n"
     ]
    }
   ],
   "source": [
    "def greet(name):\n",
    "    print(f\"Hello, {name}!\")\n",
    "\n",
    "\n",
    "# greet has no return statement but works just fine\n",
    "\n",
    "greet(\"Alan\")\n"
   ]
  },
  {
   "cell_type": "markdown",
   "metadata": {},
   "source": [
    "When you create a function, you should always document what they do. That way other developers can read the documentationp and know how to use the  dunction and waht to expect when it is called. \n",
    "\n",
    "To get help with a function in IDLE's interactive window, you can use the help function\n",
    "\n",
    "```python\n",
    "help(len)\n",
    "Help on built-in function len in module builtins:\n",
    "len(obj, /)\n",
    "Return the number of items in a container.\n",
    "\n",
    "```\n",
    "\n",
    "> A **container** is a special name for an object that constains other objects. A string is a container because it contains characters. "
   ]
  },
  {
   "cell_type": "code",
   "execution_count": 23,
   "metadata": {},
   "outputs": [
    {
     "name": "stdout",
     "output_type": "stream",
     "text": [
      "Help on function multiply in module __main__:\n",
      "\n",
      "multiply(x, y)\n",
      "\n"
     ]
    }
   ],
   "source": [
    "help(multiply)\n"
   ]
  },
  {
   "cell_type": "markdown",
   "metadata": {},
   "source": [
    "help( ) displays the function signature, but there isn't any information about what the function does. To better document, we need to provide docstring. \n",
    "\n",
    "A **docstring** is a tripe-quoted string literal placed at the top of the body function. Docstrings are used to document what a function does and what kinds of parameters it expects. "
   ]
  },
  {
   "cell_type": "code",
   "execution_count": 24,
   "metadata": {},
   "outputs": [
    {
     "name": "stdout",
     "output_type": "stream",
     "text": [
      "Help on function multiply in module __main__:\n",
      "\n",
      "multiply(x, y)\n",
      "    Return the procut of two numbers x and y.\n",
      "\n"
     ]
    }
   ],
   "source": [
    "def multiply(x, y):\n",
    "    \"\"\"Return the procut of two numbers x and y.\"\"\"\n",
    "    product = x * y\n",
    "    return product\n",
    "\n",
    "\n",
    "help(multiply)\n"
   ]
  },
  {
   "cell_type": "markdown",
   "metadata": {},
   "source": [
    "## Challenge 6.3: Convert temperatures\n",
    "\n",
    "Write a script that defines two functions\n",
    "1. convert_cel_to_far() which takes one float parameter representing degrees Celsius and return a float representing the same temperature in degrees Fahrenheit using the formula \n",
    "\n",
    "$$ F = C * 9/5 + 32 $$\n",
    "\n",
    "2. convert_far_to_cel() which takes one float parameter representing degrees Fahrenheit and return a float representing the same temperature in degrees Celsius using the formula\n",
    "\n",
    "$$ C = (F - 32) * 5/9$$\n",
    "\n",
    "All converted temperatures should be rounded to 2 decimal places.\n"
   ]
  },
  {
   "cell_type": "code",
   "execution_count": 60,
   "metadata": {},
   "outputs": [],
   "source": [
    "def convert_cel_to_far():\n",
    "    \"\"\"\n",
    "    Convert a given Celsius degree temperature to Fahrenheit\n",
    "    \"\"\"\n",
    "    celsius = float(\n",
    "        input(\"Give the degrees Celsius temperature to convert to Fahrenheit: \")\n",
    "    )\n",
    "    fahrenheit = celsius * 9 / 5 + 32\n",
    "    print(f\"{celsius} degrees Celsius are {fahrenheit: .2f}  Fahrenheit degrees\")\n",
    "\n",
    "\n",
    "def convert_far_to_cel():\n",
    "    \"\"\"\n",
    "    Convert a given Fahrenheit degree temperarture to Celcius\n",
    "    \"\"\"\n",
    "    fahrenheit = float(\n",
    "        input(\"Give the degrees Fahrenheit temperature to convert to Celcius: \")\n",
    "    )\n",
    "    C = (fahrenheit - 32) * 5 / 9\n",
    "    print(f\"{fahrenheit} degree in Celcius = {C: .2f} degrees\")\n"
   ]
  },
  {
   "cell_type": "code",
   "execution_count": 59,
   "metadata": {},
   "outputs": [
    {
     "name": "stdout",
     "output_type": "stream",
     "text": [
      "37.0 degrees Celsius are  98.60  Fahrenheit degrees\n"
     ]
    }
   ],
   "source": [
    "convert_cel_to_far()\n"
   ]
  },
  {
   "cell_type": "code",
   "execution_count": 61,
   "metadata": {},
   "outputs": [
    {
     "name": "stdout",
     "output_type": "stream",
     "text": [
      "32.0 degree in Celcius =  0.00 degrees\n"
     ]
    }
   ],
   "source": [
    "convert_far_to_cel()\n"
   ]
  },
  {
   "cell_type": "markdown",
   "metadata": {},
   "source": [
    "## Run in circles \n",
    "\n",
    "A **loop** is a block of code that gets repeated over and over again either a specified number of times or until some condition is met. There are two kinds of loops in python: while and for."
   ]
  },
  {
   "cell_type": "code",
   "execution_count": 62,
   "metadata": {},
   "outputs": [
    {
     "name": "stdout",
     "output_type": "stream",
     "text": [
      "1\n",
      "2\n",
      "3\n",
      "4\n"
     ]
    }
   ],
   "source": [
    "n = 1\n",
    "while n < 5:\n",
    "    print(n)\n",
    "    n = n + 1\n"
   ]
  },
  {
   "cell_type": "code",
   "execution_count": 63,
   "metadata": {},
   "outputs": [
    {
     "name": "stdout",
     "output_type": "stream",
     "text": [
      "That's not a positive number\n",
      "That's not a positive number\n",
      "That's not a positive number\n",
      "That's not a positive number\n",
      "That's not a positive number\n"
     ]
    }
   ],
   "source": [
    "num = float(input(\"Enter a positive number:  \"))\n",
    "\n",
    "while num <= 0:\n",
    "    print(\"That's not a positive number\")\n",
    "    num = float(input(\"Enter a positive number: \"))\n",
    "\n",
    "    # While loops are perfect for repeating a sectin of code while some condition is met.\n",
    "    # They are not well suited forrepeating a section of code a specific number of times.\n"
   ]
  },
  {
   "cell_type": "markdown",
   "metadata": {},
   "source": [
    "A for loop executes a section of code once for each item in a collection of items. The number of times that the code is executed is determied by the number of item in the collection.\n",
    "\n",
    "```python\n",
    "for letter in \"Python\":\n",
    "    print(letter)\n",
    "```\n",
    "\n",
    "At each step of the loop, the variable letter is assigned the next letter in the string \"Python\", and the value of letter is printed. The loop runs once for each characrter in the string \"Python\", so the loop body execute six times. \n",
    "\n",
    "Sometimes it's useful to loop over a range of numbers. Python has handy built-in function range( ) that produces just that- a range of numbers. \n",
    "\n",
    "For example, range(3) returns the range of intergers starting with 0 and up to, *but not including* 3. \n",
    "\n",
    "Range can be used in any positive number, to execute a loop exactly n times. It can also receive a starting point. For example, range(1, 5) is the range of numbers 1, 2, 3 and 4. "
   ]
  },
  {
   "cell_type": "code",
   "execution_count": 65,
   "metadata": {},
   "outputs": [
    {
     "name": "stdout",
     "output_type": "stream",
     "text": [
      "2 people: $ 5.00 each\n",
      "3 people: $ 3.33 each\n",
      "4 people: $ 2.50 each\n",
      "5 people: $ 2.00 each\n"
     ]
    }
   ],
   "source": [
    "amount = float(input(\"Enter an amount: \"))\n",
    "\n",
    "for num_people in range(2, 6):\n",
    "    print(f\"{num_people} people: ${amount / num_people: ,.2f} each\")\n"
   ]
  },
  {
   "cell_type": "code",
   "execution_count": 66,
   "metadata": {},
   "outputs": [
    {
     "name": "stdout",
     "output_type": "stream",
     "text": [
      "n = 1, j = 4\n",
      "n = 1, j = 5\n",
      "n = 1, j = 6\n",
      "n = 2, j = 4\n",
      "n = 2, j = 5\n",
      "n = 2, j = 6\n",
      "n = 3, j = 4\n",
      "n = 3, j = 5\n",
      "n = 3, j = 6\n"
     ]
    }
   ],
   "source": [
    "# There is an option to put loops inside of other loops.\n",
    "\n",
    "for n in range(1, 4):\n",
    "    for j in range(4, 7):\n",
    "        print(f\"n = {n}, j = {j}\")\n"
   ]
  },
  {
   "cell_type": "code",
   "execution_count": 67,
   "metadata": {},
   "outputs": [
    {
     "name": "stdout",
     "output_type": "stream",
     "text": [
      "2 \n",
      "\n",
      "3 \n",
      "\n",
      "4 \n",
      "\n",
      "5 \n",
      "\n",
      "6 \n",
      "\n",
      "7 \n",
      "\n",
      "8 \n",
      "\n",
      "9 \n",
      "\n"
     ]
    }
   ],
   "source": [
    "# write a for loop that prints out the integers 2 through 10, each on a new line, by using the range() fuction\n",
    "\n",
    "for n in range(2, 10):\n",
    "    print(f\"{n} \\n\")\n"
   ]
  },
  {
   "cell_type": "code",
   "execution_count": 70,
   "metadata": {},
   "outputs": [
    {
     "name": "stdout",
     "output_type": "stream",
     "text": [
      "2\n",
      "3\n",
      "4\n",
      "5\n",
      "6\n",
      "7\n",
      "8\n",
      "9\n"
     ]
    }
   ],
   "source": [
    "# use a while loop that prints out the integers 2 through 10\n",
    "# hint: create a new integer first\n",
    "\n",
    "integer = 2\n",
    "while integer < 10:\n",
    "    print(integer)\n",
    "    integer += 1\n"
   ]
  },
  {
   "cell_type": "code",
   "execution_count": 90,
   "metadata": {},
   "outputs": [
    {
     "name": "stdout",
     "output_type": "stream",
     "text": [
      "4\n",
      "8\n",
      "16\n"
     ]
    }
   ],
   "source": [
    "# write a function called doubles( ) that takes one number as its input and doubles that number.\n",
    "# Then use the doubles() function in a loop to dfouble the number 2 three times, displaying\n",
    "# each result on a separate line.\n",
    "\n",
    "\n",
    "def doubles(n):\n",
    "    return n * 2\n",
    "\n",
    "\n",
    "counter = 0\n",
    "\n",
    "n = int(input(\"Add a number to double: \"))\n",
    "while counter < 3:\n",
    "    print(f\"{doubles(n)}\")\n",
    "    n = doubles(n)\n",
    "    counter += 1\n"
   ]
  },
  {
   "cell_type": "markdown",
   "metadata": {},
   "source": [
    "## 6.5 Challenge: track your investment\n",
    "\n",
    "Write a program that tracks the growing amount of an investment over time.  An initial depoist, called the principal amount, is made. Each year, the amount increases by a fixed percentage, called the annual rate of return. \n",
    "\n",
    "Write a function called invest with three parameters: the principal amount, the annual rate of return and the number of years to calculate. \n",
    "\n",
    "The function prints out the amount of the investmentm rounded to 2 decimal places, and the end of each year for the specific number of years. \n",
    "\n",
    "For example, calling invest (100, 0.5, 4) should print the following: \n",
    "\n",
    "year 1: $105.00\n",
    "\n",
    "year 2: $110.25\n",
    "\n",
    "year 3: $115.76\n",
    "\n",
    "year 4: $121.55\n"
   ]
  },
  {
   "cell_type": "code",
   "execution_count": 145,
   "metadata": {},
   "outputs": [],
   "source": [
    "def invest(principal, interest, years):\n",
    "    for year in range(1, years + 1):\n",
    "        print(f\"Year {year}: $ {principal * (1+interest) : .2f}\")\n",
    "        principal *= 1 + interest\n"
   ]
  },
  {
   "cell_type": "code",
   "execution_count": 146,
   "metadata": {},
   "outputs": [
    {
     "name": "stdout",
     "output_type": "stream",
     "text": [
      "Year 1: $  105.00\n",
      "Year 2: $  110.25\n",
      "Year 3: $  115.76\n",
      "Year 4: $  121.55\n"
     ]
    }
   ],
   "source": [
    "invest(100, 0.05, 4)\n"
   ]
  },
  {
   "cell_type": "markdown",
   "metadata": {},
   "source": [
    "# 8.4 Challenge: Find the  factors of a number\n",
    "\n",
    "Write a script factors.py that asks the user to input a positive integer\n",
    "and then prints out the factors of that number."
   ]
  },
  {
   "cell_type": "code",
   "execution_count": 10,
   "metadata": {},
   "outputs": [
    {
     "name": "stdout",
     "output_type": "stream",
     "text": [
      "1 is a factor of 12\n",
      "2 is a factor of 12\n",
      "3 is a factor of 12\n",
      "4 is a factor of 12\n",
      "6 is a factor of 12\n",
      "12 is a factor of 12\n"
     ]
    }
   ],
   "source": [
    "n = int(input(\"Enter a positive integer\"))\n",
    "for i in range(1, n+1):\n",
    "    if n%i == 0:\n",
    "        print(f'{i} is a factor of {n}')"
   ]
  },
  {
   "cell_type": "code",
   "execution_count": null,
   "metadata": {},
   "outputs": [],
   "source": []
  }
 ],
 "metadata": {
  "kernelspec": {
   "display_name": "Python 3",
   "language": "python",
   "name": "python3"
  },
  "language_info": {
   "codemirror_mode": {
    "name": "ipython",
    "version": 3
   },
   "file_extension": ".py",
   "mimetype": "text/x-python",
   "name": "python",
   "nbconvert_exporter": "python",
   "pygments_lexer": "ipython3",
   "version": "3.11.5"
  },
  "orig_nbformat": 4
 },
 "nbformat": 4,
 "nbformat_minor": 2
}
