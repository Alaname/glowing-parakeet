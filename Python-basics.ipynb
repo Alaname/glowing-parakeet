{
 "cells": [
  {
   "cell_type": "code",
   "execution_count": 1,
   "metadata": {},
   "outputs": [
    {
     "ename": "TypeError",
     "evalue": "'str' object does not support item assignment",
     "output_type": "error",
     "traceback": [
      "\u001b[1;31m---------------------------------------------------------------------------\u001b[0m",
      "\u001b[1;31mTypeError\u001b[0m                                 Traceback (most recent call last)",
      "Cell \u001b[1;32mIn[1], line 4\u001b[0m\n\u001b[0;32m      1\u001b[0m \u001b[39m# Strings are immutable \u001b[39;00m\n\u001b[0;32m      3\u001b[0m word \u001b[39m=\u001b[39m \u001b[39m\"\u001b[39m\u001b[39mgoal\u001b[39m\u001b[39m\"\u001b[39m\n\u001b[1;32m----> 4\u001b[0m word[\u001b[39m0\u001b[39;49m] \u001b[39m=\u001b[39m \u001b[39m\"\u001b[39m\u001b[39mf\u001b[39m\u001b[39m\"\u001b[39m\n",
      "\u001b[1;31mTypeError\u001b[0m: 'str' object does not support item assignment"
     ]
    }
   ],
   "source": [
    "# Strings are immutable \n",
    "\n",
    "word = \"goal\"\n",
    "word[0] = \"f\"\n",
    "\n",
    "# Most string methods that alter a string, actually return copies of the original string \n",
    "# With the appropriate modification "
   ]
  },
  {
   "cell_type": "code",
   "execution_count": 5,
   "metadata": {},
   "outputs": [
    {
     "name": "stdout",
     "output_type": "stream",
     "text": [
      "foal   FOAL\n"
     ]
    }
   ],
   "source": [
    "# To change the string we can use string slicing or methods\n",
    "\n",
    "word = \"f\" + word[1: ]\n",
    "\n",
    "print(word, \" \",word.upper())"
   ]
  },
  {
   "cell_type": "markdown",
   "metadata": {},
   "source": [
    "# Challenge : Pick Apart Your User's Input\n",
    " Write a script named first_letter.py that first prompts the user for\n",
    "input by using the string \"Tell me your password:\" The script should\n",
    "then determine the first letter of the user’s input, convert that letter\n",
    "to upper-case, and display it back."
   ]
  },
  {
   "cell_type": "code",
   "execution_count": 8,
   "metadata": {},
   "outputs": [
    {
     "name": "stdout",
     "output_type": "stream",
     "text": [
      "Your first letter was:  P\n"
     ]
    }
   ],
   "source": [
    "response = input(\"Tell me your password:\" )\n",
    "print(\"Your first letter was: \", response[0].upper())"
   ]
  },
  {
   "cell_type": "markdown",
   "metadata": {},
   "source": [
    "A **sequence** is any Python object that supports accessing elements by index. Strings are sequences"
   ]
  },
  {
   "cell_type": "code",
   "execution_count": 11,
   "metadata": {},
   "outputs": [
    {
     "name": "stdout",
     "output_type": "stream",
     "text": [
      "2222\n",
      "44.0\n"
     ]
    }
   ],
   "source": [
    "# To convert a string into a number \n",
    "string = \"22\"\n",
    "print(string * 2)\n",
    "string = float(string)\n",
    "print(string * 2)\n",
    "\n",
    "# To convert a number to string use str()"
   ]
  },
  {
   "cell_type": "code",
   "execution_count": 3,
   "metadata": {},
   "outputs": [
    {
     "name": "stdout",
     "output_type": "stream",
     "text": [
      "Zaphod has 2 heads and 3 arms\n",
      "Zaphod has 2 heads and 3 arms\n"
     ]
    },
    {
     "data": {
      "text/plain": [
       "'2 times 3 is 6'"
      ]
     },
     "execution_count": 3,
     "metadata": {},
     "output_type": "execute_result"
    }
   ],
   "source": [
    "# String interpolation = insert some variables into specific locations in a string.\n",
    "# One way is using comas to insert spaces between each part of the string inside a print()function.\n",
    "name, heads, arms = \"Zaphod\", 2, 3\n",
    "print( name, \"has\", str(heads), \"heads and\", str(arms), \"arms\")\n",
    "\n",
    "# Another way is concatenating the string with the + operator\n",
    "print(name + \" has \" + str(heads) + \" heads and \" + str(arms) + \" arms\")\n",
    "\n",
    "#Third way is formatted string literals \n",
    "f\"{name} has {heads} heads and {arms} arms \"\n",
    "\n",
    "#Can anso insert Python expressions \n",
    "n, m = 2, 3\n",
    "f\"{n} times {m} is {n*m}\"\n"
   ]
  },
  {
   "cell_type": "code",
   "execution_count": 4,
   "metadata": {},
   "outputs": [
    {
     "data": {
      "text/plain": [
       "4"
      ]
     },
     "execution_count": 4,
     "metadata": {},
     "output_type": "execute_result"
    }
   ],
   "source": [
    "# To find a string in a string\n",
    "phrase = \"the surprise is in here somehow\"\n",
    "phrase.find(\"surprise\") #Returns the index of the first occurence of the string you pass to it.\n",
    "# If it does not find, it will return -1. If found many times it will return the first appearance."
   ]
  },
  {
   "cell_type": "markdown",
   "metadata": {},
   "source": [
    "# Challenge: Turn Your User Into a L33t H4xor\n",
    "Write a script called translate.py that asks the user for some input\n",
    "with the following prompt: Enter some text:. Then use the .replace()\n",
    "method to convert the text entered by the user into “leetspeak” by making\n",
    "the following changes to lower-case letters:\n",
    "* The letter a becomes 4\n",
    "* The letter b becomes 8\n",
    "* The letter e becomes 3\n",
    "* The letter l becomes 1\n",
    "* The letter o becomes 0\n",
    "* The letter s becomes 5\n",
    "* The letter t becomes 7"
   ]
  },
  {
   "cell_type": "code",
   "execution_count": 19,
   "metadata": {},
   "outputs": [
    {
     "name": "stdout",
     "output_type": "stream",
     "text": [
      "h3110\n",
      "h3110\n"
     ]
    },
    {
     "data": {
      "text/plain": [
       "{97: 52, 98: 56, 101: 51, 108: 49, 111: 48, 115: 53, 116: 55}"
      ]
     },
     "execution_count": 19,
     "metadata": {},
     "output_type": "execute_result"
    }
   ],
   "source": [
    "# The normal way of doing it is according to the book: \n",
    "my_text = input(\"Enter some text: \").lower()\n",
    "\n",
    "my_text = my_text.replace(\"a\", \"4\")\n",
    "my_text = my_text.replace(\"b\", \"8\")\n",
    "my_text = my_text.replace(\"e\", \"3\")\n",
    "my_text = my_text.replace(\"l\", \"1\")\n",
    "my_text = my_text.replace(\"o\", \"0\")\n",
    "my_text = my_text.replace(\"s\", \"5\")\n",
    "my_text = my_text.replace(\"t\", \"7\")\n",
    "print(my_text)\n",
    "\n",
    "# The alternative way without iterating over it is: \n",
    "turner = input(\"Enter some text: \").lower()\n",
    "letters = 'abelost'\n",
    "numbers = '4831057'\n",
    "\n",
    "conversion_ref = str.maketrans(letters, numbers)\n",
    "turner = turner.translate(conversion_ref)\n",
    "print(turner)\n",
    "\n",
    "# str.maketrans is a method that returns a mapping table that can beused with translate() method to replace specific characters .\n",
    "conversion_ref # to check what is is like \n",
    "\n",
    "\n",
    "\n",
    "\n"
   ]
  },
  {
   "cell_type": "code",
   "execution_count": 21,
   "metadata": {},
   "outputs": [
    {
     "data": {
      "text/plain": [
       "1000.0"
      ]
     },
     "execution_count": 21,
     "metadata": {},
     "output_type": "execute_result"
    }
   ],
   "source": [
    "# There are two ways of writing integers\n",
    "10000000\n",
    "1_000_000\n",
    "\n",
    "# In python, we can't use commas to group digits but we use underscore (_)\n",
    "# In case of float \n",
    "1000.0\n",
    "1_000.0\n",
    "1e3 # Exponential notation. For negative use 1e-4 for example to obtain 0.0001\n",
    "\n",
    "# intergers dont have maximum size but floats do. \n",
    "\n",
    "# For operations, PEP8 recommends separating both operands form an operator with a space.\n"
   ]
  },
  {
   "cell_type": "markdown",
   "metadata": {},
   "source": [
    "# Challenge 5.3: Perform Calculations on User Input\n",
    "Write a script called exponent.py that receives two numbers from the\n",
    "user and displays the first number raised to the power of the second\n",
    "number.\n",
    "A sample run of the program should look like this (with example input\n",
    "that has been provided by the user included below):\n",
    "\n",
    "1. Before you can do anything with the user’s input, you will have to\n",
    "assign both calls to input() to new variables.\n",
    "2. The input() function returns a string, so you’ll need to convert the\n",
    "user’s input into numbers in order to do arithmetic.\n",
    "3. You can use an f-string to print the result.\n",
    "4. You can assume that the user will enter actual numbers as input."
   ]
  },
  {
   "cell_type": "code",
   "execution_count": 32,
   "metadata": {},
   "outputs": [
    {
     "data": {
      "text/plain": [
       "'2 to the power of 4 is 16'"
      ]
     },
     "execution_count": 32,
     "metadata": {},
     "output_type": "execute_result"
    }
   ],
   "source": [
    "n1,n2 = map(int, input(\"Please tell two numbers separated by space: \").split())\n",
    "# map (function, iterable)\n",
    "f\"{n1} to the power of {n2} is {n1**n2}\"\n",
    "\n",
    "\n"
   ]
  },
  {
   "cell_type": "markdown",
   "metadata": {},
   "source": [
    "Write a script that asks the user to input a number and then displays\n",
    "that number rounded to two decimal places. When run, your\n",
    "program should look like this:\n",
    "\n",
    "Enter a number: 5.432\n",
    "\n",
    "5.432 rounded to 2 decimal places is 5.43"
   ]
  },
  {
   "cell_type": "code",
   "execution_count": 36,
   "metadata": {},
   "outputs": [
    {
     "data": {
      "text/plain": [
       "'1.3452391 rounded to 2 decilams places is 1.35'"
      ]
     },
     "execution_count": 36,
     "metadata": {},
     "output_type": "execute_result"
    }
   ],
   "source": [
    "n = float(input(\"Enter a number: \"))\n",
    "f\"{n} rounded to 2 decilams places is {round(n, 2)}\""
   ]
  },
  {
   "cell_type": "markdown",
   "metadata": {},
   "source": [
    "Write a script that asks the user to input two numbers, then display wheter or not the difference between those two numbers is an interger. \n",
    "\n",
    "It should look like this: \n",
    "\n",
    "Enter a number: 1.5\n",
    "Enter another number: .5\n",
    "The difference is an intenger ? True "
   ]
  },
  {
   "cell_type": "code",
   "execution_count": 39,
   "metadata": {},
   "outputs": [
    {
     "data": {
      "text/plain": [
       "'The result of 13.5 - 1.2 being an integer is : False'"
      ]
     },
     "execution_count": 39,
     "metadata": {},
     "output_type": "execute_result"
    }
   ],
   "source": [
    "n1, n2 = map(float, input(\"Enter two numbers to see if the difference is an interger: \").split())\n",
    "result = (n1-n2).is_integer()\n",
    "f\"The result of {n1} - {n2} being an integer is : {result}\""
   ]
  }
 ],
 "metadata": {
  "kernelspec": {
   "display_name": "Python 3",
   "language": "python",
   "name": "python3"
  },
  "language_info": {
   "codemirror_mode": {
    "name": "ipython",
    "version": 3
   },
   "file_extension": ".py",
   "mimetype": "text/x-python",
   "name": "python",
   "nbconvert_exporter": "python",
   "pygments_lexer": "ipython3",
   "version": "3.10.11"
  },
  "orig_nbformat": 4
 },
 "nbformat": 4,
 "nbformat_minor": 2
}
