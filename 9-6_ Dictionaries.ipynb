{
 "cells": [
  {
   "cell_type": "markdown",
   "metadata": {},
   "source": [
    "# 9.6 Store relationshiops in dictionaries "
   ]
  },
  {
   "cell_type": "markdown",
   "metadata": {},
   "source": [
    "Dictionaries hold information in paris of data called **key-value** pairs. This is, each object in a dictionary has two parts: a **key** and a **value**.\n",
    "\n",
    "They key in a key-value pair is a unique name that identifies the value part of the pair."
   ]
  },
  {
   "cell_type": "code",
   "execution_count": 3,
   "metadata": {},
   "outputs": [
    {
     "data": {
      "text/plain": [
       "{'California': 'Sacramento', 'New York': 'Albany', 'Texas': 'Austin'}"
      ]
     },
     "execution_count": 3,
     "metadata": {},
     "output_type": "execute_result"
    }
   ],
   "source": [
    "## Creating dictionaries \n",
    "\n",
    "capitals = {\n",
    "    \"California\": \"Sacramento\",\n",
    "    \"New York\": \"Albany\",\n",
    "    \"Texas\":  \"Austin\",\n",
    "}\n",
    "\n",
    "# Note that each key is separated from its value by a colon (:), each key-value\n",
    "# pair is separated by a comman (,) and the entire dictionary is enclosed in\n",
    "# curly braces ( { and }). \n",
    "capitals"
   ]
  },
  {
   "cell_type": "code",
   "execution_count": 8,
   "metadata": {},
   "outputs": [
    {
     "name": "stdout",
     "output_type": "stream",
     "text": [
      "(('California', 'Sacramento'), ('New York', 'Albany'), ('Texas', 'Austin')) \n",
      " {'California': 'Sacramento', 'New York': 'Albany', 'Texas': 'Austin'}\n"
     ]
    }
   ],
   "source": [
    "# You can also ceate a dictionary from a sequence of tuples using the dict(). \n",
    "\n",
    "key_value_pairs = (\n",
    "    (\"California\", \"Sacramento\"),\n",
    "    (\"New York\", \"Albany\"),\n",
    "    (\"Texas\", \"Austin\"),\n",
    ")\n",
    "\n",
    "capitals = dict(key_value_pairs)\n",
    "\n",
    "print(key_value_pairs,\"\\n\", capitals)"
   ]
  },
  {
   "cell_type": "markdown",
   "metadata": {},
   "source": [
    "## Accessing dictionary values \n",
    "\n",
    "To access a value in a dictionary, enclose the corresponding key in square brackets\n",
    "and the end of the dictionary or a variable name assigned to a dictionary. \n"
   ]
  },
  {
   "cell_type": "code",
   "execution_count": 9,
   "metadata": {},
   "outputs": [
    {
     "data": {
      "text/plain": [
       "'Austin'"
      ]
     },
     "execution_count": 9,
     "metadata": {},
     "output_type": "execute_result"
    }
   ],
   "source": [
    "capitals['Texas']"
   ]
  },
  {
   "cell_type": "code",
   "execution_count": 10,
   "metadata": {},
   "outputs": [
    {
     "data": {
      "text/plain": [
       "{'California': 'Sacramento',\n",
       " 'New York': 'Albany',\n",
       " 'Texas': 'Austin',\n",
       " 'Colorado': 'Denver'}"
      ]
     },
     "execution_count": 10,
     "metadata": {},
     "output_type": "execute_result"
    }
   ],
   "source": [
    "## Adding or removing values in a dictionary \n",
    "\n",
    "capitals[\"Colorado\"] = \"Denver\"\n",
    "\n",
    "capitals"
   ]
  },
  {
   "cell_type": "markdown",
   "metadata": {},
   "source": [
    "Each key in a dictonary can only be assigned a single value. If a key is given a new value, Python kust overwrites the old one. \n"
   ]
  },
  {
   "cell_type": "code",
   "execution_count": 11,
   "metadata": {},
   "outputs": [
    {
     "data": {
      "text/plain": [
       "{'California': 'Sacramento', 'New York': 'Albany', 'Colorado': 'Denver'}"
      ]
     },
     "execution_count": 11,
     "metadata": {},
     "output_type": "execute_result"
    }
   ],
   "source": [
    "# To remove an item from a dictonary, use the del keyword with the key for\n",
    "# the value you want to delete \n",
    "\n",
    "del capitals['Texas']\n",
    "capitals"
   ]
  },
  {
   "cell_type": "code",
   "execution_count": 16,
   "metadata": {},
   "outputs": [
    {
     "data": {
      "text/plain": [
       "False"
      ]
     },
     "execution_count": 16,
     "metadata": {},
     "output_type": "execute_result"
    }
   ],
   "source": [
    "# To check that a key exists in a dictionary using the in keyword:  \n",
    "\n",
    "\"Arizona\" in capitals\n",
    "\n",
    "# It is important to remember that in only checks the existence of keys. \n",
    "\n"
   ]
  },
  {
   "cell_type": "markdown",
   "metadata": {},
   "source": [
    "## Iterating over dictionaries \n",
    "\n",
    "Like lists and tuples, dictonaries are iterable. However, looping over a dictionary is a bit different than looping over a list or tuple. When you loop over a dictonary with a for loop, you iterate over the dictionary's keys."
   ]
  },
  {
   "cell_type": "code",
   "execution_count": 17,
   "metadata": {},
   "outputs": [
    {
     "name": "stdout",
     "output_type": "stream",
     "text": [
      "California\n",
      "New York\n",
      "Colorado\n"
     ]
    }
   ],
   "source": [
    "for key in capitals: \n",
    "    print(key)"
   ]
  },
  {
   "cell_type": "code",
   "execution_count": 18,
   "metadata": {},
   "outputs": [
    {
     "name": "stdout",
     "output_type": "stream",
     "text": [
      "The capital of California is Sacramento\n",
      "The capital of New York is Albany\n",
      "The capital of Colorado is Denver\n"
     ]
    }
   ],
   "source": [
    "# If you want to loop over the capitals dictionary values as well, we can use: \n",
    "\n",
    "for state in capitals: \n",
    "    print(f\"The capital of {state} is {capitals[state]}\")"
   ]
  },
  {
   "cell_type": "markdown",
   "metadata": {},
   "source": [
    "A slightly more succint way to do this, is using the .items() dictionary method. It returns a list-like object containing tuples of key-value pairs."
   ]
  },
  {
   "cell_type": "code",
   "execution_count": 21,
   "metadata": {},
   "outputs": [
    {
     "name": "stdout",
     "output_type": "stream",
     "text": [
      "dict_items([('California', 'Sacramento'), ('New York', 'Albany'), ('Colorado', 'Denver')])\n",
      "<class 'dict_items'>\n"
     ]
    }
   ],
   "source": [
    "print(capitals.items())\n",
    "print(type(capitals.items()))"
   ]
  },
  {
   "cell_type": "code",
   "execution_count": 22,
   "metadata": {},
   "outputs": [
    {
     "name": "stdout",
     "output_type": "stream",
     "text": [
      "The capital of California is Sacramento\n",
      "The capital of New York is Albany\n",
      "The capital of Colorado is Denver\n"
     ]
    }
   ],
   "source": [
    "# Rewriting the previous loop with .items\n",
    "for state, capital in capitals.items():\n",
    "    print(f\"The capital of {state} is {capital}\")"
   ]
  },
  {
   "cell_type": "markdown",
   "metadata": {},
   "source": [
    "## Dictionary keys and immutability\n",
    "\n",
    "In the capitals dictionary, each key is a string. However, there is no ruel that says dictionary keys must all be of the same type. \n",
    "\n",
    "For instance, we can add an integer key to capitals: "
   ]
  },
  {
   "cell_type": "code",
   "execution_count": 23,
   "metadata": {},
   "outputs": [
    {
     "data": {
      "text/plain": [
       "{'California': 'Sacramento',\n",
       " 'New York': 'Albany',\n",
       " 'Colorado': 'Denver',\n",
       " 50: 'Honolulu'}"
      ]
     },
     "execution_count": 23,
     "metadata": {},
     "output_type": "execute_result"
    }
   ],
   "source": [
    "capitals[50] = \"Honolulu\"\n",
    "capitals"
   ]
  },
  {
   "cell_type": "markdown",
   "metadata": {},
   "source": [
    "There is only one restriction on what constitutes a valid dictionary key. Only immutable types are allowed. This means, for example, that a list cannot be a dictionary key. Valid dictionary key types are: \n",
    "- Integers\n",
    "- Floats\n",
    "- Strings \n",
    "- Booleans \n",
    "- Tuples\n",
    "\n",
    "Unlike keys, dictionary values can be any valid Python type, including other dictionaries. "
   ]
  },
  {
   "cell_type": "code",
   "execution_count": 24,
   "metadata": {},
   "outputs": [],
   "source": [
    "states = {\n",
    " \"California\": {\n",
    "    \"capital\": \"Sacramento\",\n",
    "    \"flower\": \"California Poppy\"\n",
    "    },\n",
    "    \"New York\": {\n",
    "        \"capital\": \"Albany\",\n",
    "        \"flower\": \"Rose\"\n",
    " },\n",
    " \"Texas\": {\n",
    "        \"capital\": \"Austin\",\n",
    "        \"flower\": \"Bluebonnet\"\n",
    " },\n",
    "}\n",
    "\n"
   ]
  },
  {
   "cell_type": "code",
   "execution_count": 25,
   "metadata": {},
   "outputs": [
    {
     "data": {
      "text/plain": [
       "{'capital': 'Austin', 'flower': 'Bluebonnet'}"
      ]
     },
     "execution_count": 25,
     "metadata": {},
     "output_type": "execute_result"
    }
   ],
   "source": [
    "# The value of each key is a dictionary:  \n",
    "\n",
    "states[\"Texas\"]"
   ]
  },
  {
   "cell_type": "code",
   "execution_count": 26,
   "metadata": {},
   "outputs": [
    {
     "data": {
      "text/plain": [
       "'Bluebonnet'"
      ]
     },
     "execution_count": 26,
     "metadata": {},
     "output_type": "execute_result"
    }
   ],
   "source": [
    "# To get the Texas state flower, first get the value at the key \"Texas\",  and \n",
    "# then the value at the key \"flower\"\n",
    "\n",
    "states[\"Texas\"][\"flower\"]"
   ]
  },
  {
   "cell_type": "markdown",
   "metadata": {},
   "source": [
    "Nested dictionaries come up frequently. They are particularly useful when working with data transmitted over the web. Nested dictionaries are also great for modeling structured data, such as spreadsheets or relational databases."
   ]
  },
  {
   "cell_type": "markdown",
   "metadata": {},
   "source": [
    "### Review exercises \n",
    "\n",
    "1. Create an empty dictionary named captains. \n",
    "2. Using the square bracket notation, ente the following data into the dictionary, one item at a time:  \n",
    "'Enterprise': 'Picard'\n",
    "'Voyager': 'Janeway'\n",
    "'Defiant': 'Sisko'\n",
    "3. Write two if statements that check if \"Enterprise\" and \"Discovery\" exists as keys in the dictionary. Set their values to \"unknown\" if the key does not exist.\n",
    "4. Write a for loop to display the ship and capitain names contained in the dictionary. For example, the output should look something like this: \n",
    " *The Enterprise is captained by Picard.* \n",
    "5. Delete \"Discovery \"from the dictionary. \n",
    "6. Bonus: Make the same dictionary by using dict() and passing in the initial vlaues when you first create the dictionary. "
   ]
  },
  {
   "cell_type": "code",
   "execution_count": 28,
   "metadata": {},
   "outputs": [],
   "source": [
    "# 1 \n",
    "\n",
    "captains = {}\n",
    "type(captains) \n",
    "\n",
    "#2\n",
    "captains = {\n",
    "    \"Enterprise\": \"Picard\",\n",
    "    \"Voyger\": \"Janeway\",\n",
    "    \"Defiant\": \"Sisko\",\n",
    "}"
   ]
  }
 ],
 "metadata": {
  "kernelspec": {
   "display_name": "Python 3",
   "language": "python",
   "name": "python3"
  },
  "language_info": {
   "codemirror_mode": {
    "name": "ipython",
    "version": 3
   },
   "file_extension": ".py",
   "mimetype": "text/x-python",
   "name": "python",
   "nbconvert_exporter": "python",
   "pygments_lexer": "ipython3",
   "version": "3.12.2"
  }
 },
 "nbformat": 4,
 "nbformat_minor": 2
}
